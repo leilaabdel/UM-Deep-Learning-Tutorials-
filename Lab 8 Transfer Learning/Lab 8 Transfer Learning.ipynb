{
 "cells": [
  {
   "cell_type": "markdown",
   "metadata": {},
   "source": [
    "# Transfer Learning with Keras "
   ]
  },
  {
   "cell_type": "markdown",
   "metadata": {},
   "source": [
    "- Let's look at theold model\n",
    "- Modify the previous model to train it on new data. "
   ]
  },
  {
   "cell_type": "markdown",
   "metadata": {},
   "source": [
    "# The Old Model: MNist Dataset"
   ]
  },
  {
   "cell_type": "code",
   "execution_count": 19,
   "metadata": {},
   "outputs": [
    {
     "name": "stdout",
     "output_type": "stream",
     "text": [
      "x_train shape: (60000, 28, 28)\n",
      "60000 train samples\n",
      "10000 test samples\n"
     ]
    }
   ],
   "source": [
    "from keras.datasets import mnist\n",
    "from keras.utils import to_categorical\n",
    "\n",
    "num_classes = 10\n",
    "\n",
    "# input image dimensions\n",
    "img_rows, img_cols = 28, 28\n",
    "\n",
    "# the data, split between train and test sets\n",
    "(x_train, y_train), (x_test, y_test) = mnist.load_data()\n",
    "\n",
    "\n",
    "\n",
    "x_train = x_train.astype('float32')\n",
    "x_test = x_test.astype('float32')\n",
    "x_train /= 255\n",
    "x_test /= 255\n",
    "print('x_train shape:', x_train.shape)\n",
    "print(x_train.shape[0], 'train samples')\n",
    "print(x_test.shape[0], 'test samples')\n",
    "\n",
    "# convert class vectors to binary class matrices\n",
    "y_train = to_categorical(y_train, num_classes)\n",
    "y_test = to_categorical(y_test, num_classes)\n",
    "\n",
    "x_train = x_train.reshape(x_train.shape[0], img_rows, img_cols, 1)\n",
    "x_test = x_test.reshape(x_test.shape[0], img_rows, img_cols, 1)\n",
    "input_shape = (img_rows, img_cols, 1)"
   ]
  },
  {
   "cell_type": "markdown",
   "metadata": {},
   "source": [
    "## plots"
   ]
  },
  {
   "cell_type": "code",
   "execution_count": 20,
   "metadata": {},
   "outputs": [
    {
     "data": {
      "image/png": "[encoded data removed]",
      "text/plain": [
       "<Figure size 432x288 with 1 Axes>"
      ]
     },
     "metadata": {
      "needs_background": "light"
     },
     "output_type": "display_data"
    }
   ],
   "source": [
    "import matplotlib.pyplot as plt\n",
    "import numpy as np\n",
    "\n",
    "img = np.squeeze(x_train[0,...])\n",
    "\n",
    "plt.figure()\n",
    "plt.imshow(img)\n",
    "plt.show()\n"
   ]
  },
  {
   "cell_type": "markdown",
   "metadata": {},
   "source": [
    "### imports"
   ]
  },
  {
   "cell_type": "code",
   "execution_count": 21,
   "metadata": {},
   "outputs": [],
   "source": [
    "from keras.layers import *\n",
    "from keras.models import *\n",
    "from keras.optimizers import *\n",
    "from keras.losses import *\n",
    "from keras.metrics import *\n"
   ]
  },
  {
   "cell_type": "markdown",
   "metadata": {},
   "source": [
    "### create model"
   ]
  },
  {
   "cell_type": "code",
   "execution_count": 24,
   "metadata": {},
   "outputs": [],
   "source": [
    "model = Sequential()\n",
    "\n",
    "model.add(Conv2D(32, kernel_size=(3, 3),\n",
    "                 activation='relu',\n",
    "                 input_shape=input_shape))\n",
    "\n",
    "model.add(Conv2D(64, (3, 3), activation='relu'))\n",
    "\n",
    "model.add(MaxPooling2D(pool_size=(2, 2)))\n",
    "\n",
    "model.add(Dropout(0.25))\n",
    "\n",
    "model.add(Flatten())\n",
    "\n",
    "model.add(Dense(128, activation='relu'))\n",
    "\n",
    "model.add(Dropout(0.5))\n",
    "\n",
    "model.add(Dense(num_classes, activation='softmax'))\n"
   ]
  },
  {
   "cell_type": "code",
   "execution_count": null,
   "metadata": {},
   "outputs": [],
   "source": []
  },
  {
   "cell_type": "code",
   "execution_count": 25,
   "metadata": {},
   "outputs": [],
   "source": [
    "model.compile(loss='categorical_crossentropy',\n",
    "              optimizer=Adam(lr=0.001),\n",
    "              metrics=['accuracy'])\n"
   ]
  },
  {
   "cell_type": "code",
   "execution_count": null,
   "metadata": {},
   "outputs": [],
   "source": []
  },
  {
   "cell_type": "code",
   "execution_count": 26,
   "metadata": {},
   "outputs": [
    {
     "name": "stdout",
     "output_type": "stream",
     "text": [
      "Train on 60000 samples, validate on 10000 samples\n",
      "Epoch 1/12\n",
      "60000/60000 [==============================] - 102s 2ms/step - loss: 0.2369 - accuracy: 0.9279 - val_loss: 0.0515 - val_accuracy: 0.9832\n",
      "Epoch 2/12\n",
      "60000/60000 [==============================] - 109s 2ms/step - loss: 0.0856 - accuracy: 0.9743 - val_loss: 0.0441 - val_accuracy: 0.9861\n",
      "Epoch 3/12\n",
      "60000/60000 [==============================] - 112s 2ms/step - loss: 0.0638 - accuracy: 0.9807 - val_loss: 0.0349 - val_accuracy: 0.9879\n",
      "Epoch 4/12\n",
      "60000/60000 [==============================] - 112s 2ms/step - loss: 0.0540 - accuracy: 0.9833 - val_loss: 0.0346 - val_accuracy: 0.9888\n",
      "Epoch 5/12\n",
      "60000/60000 [==============================] - 111s 2ms/step - loss: 0.0458 - accuracy: 0.9861 - val_loss: 0.0298 - val_accuracy: 0.9904\n",
      "Epoch 6/12\n",
      "60000/60000 [==============================] - 109s 2ms/step - loss: 0.0403 - accuracy: 0.9875 - val_loss: 0.0345 - val_accuracy: 0.9899\n",
      "Epoch 7/12\n",
      "60000/60000 [==============================] - 107s 2ms/step - loss: 0.0347 - accuracy: 0.9889 - val_loss: 0.0286 - val_accuracy: 0.9913\n",
      "Epoch 8/12\n",
      "60000/60000 [==============================] - 106s 2ms/step - loss: 0.0308 - accuracy: 0.9904 - val_loss: 0.0262 - val_accuracy: 0.9923\n",
      "Epoch 9/12\n",
      "60000/60000 [==============================] - 107s 2ms/step - loss: 0.0294 - accuracy: 0.9901 - val_loss: 0.0313 - val_accuracy: 0.9910\n",
      "Epoch 10/12\n",
      "60000/60000 [==============================] - 105s 2ms/step - loss: 0.0263 - accuracy: 0.9912 - val_loss: 0.0277 - val_accuracy: 0.9912\n",
      "Epoch 11/12\n",
      "60000/60000 [==============================] - 104s 2ms/step - loss: 0.0224 - accuracy: 0.9927 - val_loss: 0.0312 - val_accuracy: 0.9915\n",
      "Epoch 12/12\n",
      "60000/60000 [==============================] - 106s 2ms/step - loss: 0.0248 - accuracy: 0.9916 - val_loss: 0.0287 - val_accuracy: 0.9920\n"
     ]
    },
    {
     "data": {
      "text/plain": [
       "<keras.callbacks.callbacks.History at 0x22adc6cddc8>"
      ]
     },
     "execution_count": 26,
     "metadata": {},
     "output_type": "execute_result"
    }
   ],
   "source": [
    "batch_size = 128\n",
    "\n",
    "num_classes = 10\n",
    "\n",
    "epochs = 12\n",
    "\n",
    "model.fit(x_train, y_train,\n",
    "          batch_size=batch_size,\n",
    "          epochs=epochs,\n",
    "          verbose=1,\n",
    "          validation_data=(x_test, y_test))"
   ]
  },
  {
   "cell_type": "code",
   "execution_count": 30,
   "metadata": {},
   "outputs": [
    {
     "name": "stdout",
     "output_type": "stream",
     "text": [
      "Test loss: 0.02872034736951655\n",
      "Test accuracy: 0.9919999837875366\n"
     ]
    }
   ],
   "source": [
    "score = model.evaluate(x_test, y_test, verbose=0)\n",
    "print('Test loss:', score[0])\n",
    "print('Test accuracy:', score[1])"
   ]
  },
  {
   "cell_type": "markdown",
   "metadata": {},
   "source": [
    "# Transfer Learning \n",
    "\n",
    "<img src = \"https://cdn-images-1.medium.com/freeze/max/1000/1*ZJmOqK41yURkbJpCvbLPhg.png?q=20\" height = \"100\">\n",
    "\n",
    "\n",
    "\n",
    "Our model has 8 layers. Let's freeze the first 6 layers to then feature extract on the last 2 layers. \n"
   ]
  },
  {
   "cell_type": "code",
   "execution_count": 31,
   "metadata": {},
   "outputs": [],
   "source": [
    "for layer in model.layers[:6]:\n",
    "    layer.trainable = False\n",
    "    \n",
    "for layer in model.layers[6:]:\n",
    "    layer.trainable=True\n",
    "    \n",
    "    "
   ]
  },
  {
   "cell_type": "code",
   "execution_count": 32,
   "metadata": {},
   "outputs": [],
   "source": [
    "# Let's load and format pur new dataset: the MNIST Fashion Data set"
   ]
  },
  {
   "cell_type": "code",
   "execution_count": 34,
   "metadata": {},
   "outputs": [
    {
     "name": "stdout",
     "output_type": "stream",
     "text": [
      "x_train shape: (60000, 28, 28)\n",
      "60000 train samples\n",
      "10000 test samples\n"
     ]
    }
   ],
   "source": [
    "from keras.datasets import fashion_mnist\n",
    "(x_train, y_train), (x_test, y_test) = fashion_mnist.load_data()\n",
    "\n",
    "\n",
    "\n",
    "x_train = x_train.astype('float32')\n",
    "x_test = x_test.astype('float32')\n",
    "x_train /= 255\n",
    "x_test /= 255\n",
    "print('x_train shape:', x_train.shape)\n",
    "print(x_train.shape[0], 'train samples')\n",
    "print(x_test.shape[0], 'test samples')\n",
    "\n",
    "# convert class vectors to binary class matrices\n",
    "y_train = to_categorical(y_train, num_classes)\n",
    "y_test = to_categorical(y_test, num_classes)\n",
    "\n",
    "x_train = x_train.reshape(x_train.shape[0], img_rows, img_cols, 1)\n",
    "x_test = x_test.reshape(x_test.shape[0], img_rows, img_cols, 1)\n",
    "input_shape = (img_rows, img_cols, 1)"
   ]
  },
  {
   "cell_type": "code",
   "execution_count": 35,
   "metadata": {},
   "outputs": [
    {
     "data": {
      "image/png": "[encoded data removed]",
      "text/plain": [
       "<Figure size 432x288 with 1 Axes>"
      ]
     },
     "metadata": {
      "needs_background": "light"
     },
     "output_type": "display_data"
    }
   ],
   "source": [
    "img = np.squeeze(x_train[0,...])\n",
    "\n",
    "plt.figure()\n",
    "plt.imshow(img)\n",
    "plt.show()\n"
   ]
  },
  {
   "cell_type": "code",
   "execution_count": 36,
   "metadata": {},
   "outputs": [],
   "source": [
    "batch_size = 128\n",
    "\n"
   ]
  },
  {
   "cell_type": "markdown",
   "metadata": {},
   "source": [
    "Let's look at the model architecture"
   ]
  },
  {
   "cell_type": "code",
   "execution_count": 37,
   "metadata": {},
   "outputs": [
    {
     "name": "stdout",
     "output_type": "stream",
     "text": [
      "Model: \"sequential_4\"\n",
      "_________________________________________________________________\n",
      "Layer (type)                 Output Shape              Param #   \n",
      "=================================================================\n",
      "conv2d_4 (Conv2D)            (None, 26, 26, 32)        320       \n",
      "_________________________________________________________________\n",
      "conv2d_5 (Conv2D)            (None, 24, 24, 64)        18496     \n",
      "_________________________________________________________________\n",
      "max_pooling2d_2 (MaxPooling2 (None, 12, 12, 64)        0         \n",
      "_________________________________________________________________\n",
      "dropout_3 (Dropout)          (None, 12, 12, 64)        0         \n",
      "_________________________________________________________________\n",
      "flatten_2 (Flatten)          (None, 9216)              0         \n",
      "_________________________________________________________________\n",
      "dense_3 (Dense)              (None, 128)               1179776   \n",
      "_________________________________________________________________\n",
      "dropout_4 (Dropout)          (None, 128)               0         \n",
      "_________________________________________________________________\n",
      "dense_4 (Dense)              (None, 10)                1290      \n",
      "=================================================================\n",
      "Total params: 2,398,474\n",
      "Trainable params: 1,199,882\n",
      "Non-trainable params: 1,198,592\n",
      "_________________________________________________________________\n"
     ]
    },
    {
     "name": "stderr",
     "output_type": "stream",
     "text": [
      "C:\\Users\\coder\\Anaconda3\\envs\\tf_gpu\\lib\\site-packages\\keras\\engine\\training.py:297: UserWarning: Discrepancy between trainable weights and collected trainable weights, did you set `model.trainable` without calling `model.compile` after ?\n",
      "  'Discrepancy between trainable weights and collected trainable'\n"
     ]
    }
   ],
   "source": [
    "model.summary()"
   ]
  },
  {
   "cell_type": "code",
   "execution_count": 41,
   "metadata": {},
   "outputs": [
    {
     "name": "stdout",
     "output_type": "stream",
     "text": [
      "Train on 60000 samples, validate on 10000 samples\n",
      "Epoch 13/22\n",
      "60000/60000 [==============================] - 115s 2ms/step - loss: 0.4833 - accuracy: 0.8273 - val_loss: 0.3319 - val_accuracy: 0.8791\n",
      "Epoch 14/22\n",
      "60000/60000 [==============================] - 113s 2ms/step - loss: 0.3626 - accuracy: 0.8707 - val_loss: 0.2966 - val_accuracy: 0.8909\n",
      "Epoch 15/22\n",
      "60000/60000 [==============================] - 109s 2ms/step - loss: 0.3219 - accuracy: 0.8842 - val_loss: 0.2749 - val_accuracy: 0.9000\n",
      "Epoch 16/22\n",
      "60000/60000 [==============================] - 109s 2ms/step - loss: 0.2978 - accuracy: 0.8915 - val_loss: 0.2578 - val_accuracy: 0.9049\n",
      "Epoch 17/22\n",
      "60000/60000 [==============================] - 105s 2ms/step - loss: 0.2763 - accuracy: 0.8993 - val_loss: 0.2530 - val_accuracy: 0.9072\n",
      "Epoch 18/22\n",
      "60000/60000 [==============================] - 104s 2ms/step - loss: 0.2604 - accuracy: 0.9045 - val_loss: 0.2449 - val_accuracy: 0.9101\n",
      "Epoch 19/22\n",
      "60000/60000 [==============================] - 106s 2ms/step - loss: 0.2474 - accuracy: 0.9108 - val_loss: 0.2378 - val_accuracy: 0.9115\n",
      "Epoch 20/22\n",
      "60000/60000 [==============================] - 108s 2ms/step - loss: 0.2349 - accuracy: 0.9146 - val_loss: 0.2322 - val_accuracy: 0.9129\n",
      "Epoch 21/22\n",
      "60000/60000 [==============================] - 107s 2ms/step - loss: 0.2246 - accuracy: 0.9179 - val_loss: 0.2280 - val_accuracy: 0.9150\n",
      "Epoch 22/22\n",
      "60000/60000 [==============================] - 105s 2ms/step - loss: 0.2125 - accuracy: 0.9199 - val_loss: 0.2286 - val_accuracy: 0.9172\n"
     ]
    }
   ],
   "source": [
    "fine_tune_epochs = 10;\n",
    "total_epochs = epochs + fine_tune_epochs\n",
    "\n",
    "history_fine = model.fit(x_train, y_train,\n",
    "          batch_size=batch_size,\n",
    "          epochs=total_epochs, initial_epoch = 12,\n",
    "          verbose=1,\n",
    "          validation_data=(x_test, y_test))"
   ]
  },
  {
   "cell_type": "code",
   "execution_count": 42,
   "metadata": {},
   "outputs": [
    {
     "name": "stdout",
     "output_type": "stream",
     "text": [
      "Test loss: 0.22860101442039013\n",
      "Test accuracy: 0.9172000288963318\n"
     ]
    }
   ],
   "source": [
    "score = model.evaluate(x_test, y_test, verbose=0)\n",
    "print('Test loss:', score[0])\n",
    "print('Test accuracy:', score[1])"
   ]
  },
  {
   "cell_type": "code",
   "execution_count": null,
   "metadata": {},
   "outputs": [],
   "source": []
  }
 ],
 "metadata": {
  "kernelspec": {
   "display_name": "Python 3",
   "language": "python",
   "name": "python3"
  },
  "language_info": {
   "codemirror_mode": {
    "name": "ipython",
    "version": 3
   },
   "file_extension": ".py",
   "mimetype": "text/x-python",
   "name": "python",
   "nbconvert_exporter": "python",
   "pygments_lexer": "ipython3",
   "version": "3.7.5"
  }
 },
 "nbformat": 4,
 "nbformat_minor": 2
}
