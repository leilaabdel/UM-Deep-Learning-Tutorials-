{
 "cells": [
  {
   "cell_type": "markdown",
   "metadata": {},
   "source": [
    "# Transfer Learning with Keras "
   ]
  },
  {
   "cell_type": "markdown",
   "metadata": {},
   "source": [
    "- Let's look at theold model\n",
    "- Modify the previous model to train it on new data. "
   ]
  },
  {
   "cell_type": "markdown",
   "metadata": {},
   "source": [
    "# The Old Model: MNist Dataset"
   ]
  },
  {
   "cell_type": "code",
   "execution_count": 2,
   "metadata": {},
   "outputs": [
    {
     "name": "stderr",
     "output_type": "stream",
     "text": [
      "Using TensorFlow backend.\n"
     ]
    },
    {
     "name": "stdout",
     "output_type": "stream",
     "text": [
      "x_train shape: (60000, 28, 28)\n",
      "60000 train samples\n",
      "10000 test samples\n"
     ]
    }
   ],
   "source": [
    "from keras.datasets import mnist\n",
    "from keras.utils import to_categorical\n",
    "\n",
    "num_classes = 10\n",
    "\n",
    "# input image dimensions\n",
    "img_rows, img_cols = 28, 28\n",
    "\n",
    "# the data, split between train and test sets\n",
    "(x_train, y_train), (x_test, y_test) = mnist.load_data()\n",
    "\n",
    "\n",
    "\n",
    "x_train = x_train.astype('float32')\n",
    "x_test = x_test.astype('float32')\n",
    "x_train /= 255\n",
    "x_test /= 255\n",
    "print('x_train shape:', x_train.shape)\n",
    "print(x_train.shape[0], 'train samples')\n",
    "print(x_test.shape[0], 'test samples')\n",
    "\n",
    "# convert class vectors to binary class matrices\n",
    "y_train = to_categorical(y_train, num_classes)\n",
    "y_test = to_categorical(y_test, num_classes)\n",
    "\n",
    "x_train = x_train.reshape(x_train.shape[0], img_rows, img_cols, 1)\n",
    "x_test = x_test.reshape(x_test.shape[0], img_rows, img_cols, 1)\n",
    "input_shape = (img_rows, img_cols, 1)"
   ]
  },
  {
   "cell_type": "markdown",
   "metadata": {},
   "source": [
    "## plots"
   ]
  },
  {
   "cell_type": "code",
   "execution_count": 3,
   "metadata": {},
   "outputs": [
    {
     "data": {
      "text/plain": [
       "<Figure size 640x480 with 1 Axes>"
      ]
     },
     "metadata": {},
     "output_type": "display_data"
    }
   ],
   "source": [
    "import matplotlib.pyplot as plt\n",
    "import numpy as np\n",
    "\n",
    "img = np.squeeze(x_train[0,...])\n",
    "\n",
    "plt.figure()\n",
    "plt.imshow(img)\n",
    "plt.show()\n"
   ]
  },
  {
   "cell_type": "markdown",
   "metadata": {},
   "source": [
    "### imports"
   ]
  },
  {
   "cell_type": "code",
   "execution_count": 4,
   "metadata": {},
   "outputs": [],
   "source": [
    "from keras.layers import *\n",
    "from keras.models import *\n",
    "from keras.optimizers import *\n",
    "from keras.losses import *\n",
    "from keras.metrics import *\n"
   ]
  },
  {
   "cell_type": "markdown",
   "metadata": {},
   "source": [
    "### create model"
   ]
  },
  {
   "cell_type": "code",
   "execution_count": 8,
   "metadata": {},
   "outputs": [],
   "source": [
    "\n",
    "\n",
    "model = Sequential()\n",
    "\n",
    "model.add(Conv2D(32, kernel_size=(3, 3),\n",
    "                 activation='relu',\n",
    "                 input_shape=input_shape))\n",
    "\n",
    "model.add(Conv2D(64, (3, 3), activation='relu'))\n",
    "\n",
    "model.add(MaxPooling2D(pool_size=(2, 2)))\n",
    "\n",
    "model.add(Dropout(0.25))\n",
    "\n",
    "model.add(Flatten())\n",
    "\n",
    "model.add(Dense(128, activation='relu'))\n",
    "\n",
    "model.add(Dropout(0.5))\n",
    "\n",
    "model.add(Dense(num_classes, activation='softmax'))\n"
   ]
  },
  {
   "cell_type": "code",
   "execution_count": null,
   "metadata": {},
   "outputs": [],
   "source": []
  },
  {
   "cell_type": "code",
   "execution_count": 9,
   "metadata": {},
   "outputs": [],
   "source": [
    "model.compile(loss='categorical_crossentropy',\n",
    "              optimizer=Adam(lr=0.001),\n",
    "              metrics=['accuracy'])\n"
   ]
  },
  {
   "cell_type": "code",
   "execution_count": null,
   "metadata": {},
   "outputs": [],
   "source": []
  },
  {
   "cell_type": "code",
   "execution_count": 10,
   "metadata": {},
   "outputs": [
    {
     "name": "stdout",
     "output_type": "stream",
     "text": [
      "Train on 60000 samples, validate on 10000 samples\n",
      "Epoch 1/12\n",
      "60000/60000 [==============================] - 106s 2ms/step - loss: 0.2369 - accuracy: 0.9273 - val_loss: 0.0506 - val_accuracy: 0.9834\n",
      "Epoch 2/12\n",
      "60000/60000 [==============================] - 110s 2ms/step - loss: 0.0813 - accuracy: 0.9756 - val_loss: 0.0386 - val_accuracy: 0.9875\n",
      "Epoch 3/12\n",
      "60000/60000 [==============================] - 113s 2ms/step - loss: 0.0621 - accuracy: 0.9816 - val_loss: 0.0363 - val_accuracy: 0.9887\n",
      "Epoch 4/12\n",
      "60000/60000 [==============================] - 116s 2ms/step - loss: 0.0527 - accuracy: 0.9831 - val_loss: 0.0312 - val_accuracy: 0.9897\n",
      "Epoch 5/12\n",
      "60000/60000 [==============================] - 117s 2ms/step - loss: 0.0447 - accuracy: 0.9864 - val_loss: 0.0291 - val_accuracy: 0.9910\n",
      "Epoch 6/12\n",
      "60000/60000 [==============================] - 116s 2ms/step - loss: 0.0380 - accuracy: 0.9882 - val_loss: 0.0306 - val_accuracy: 0.9903\n",
      "Epoch 7/12\n",
      "60000/60000 [==============================] - 114s 2ms/step - loss: 0.0326 - accuracy: 0.9894 - val_loss: 0.0309 - val_accuracy: 0.9899\n",
      "Epoch 8/12\n",
      "60000/60000 [==============================] - 111s 2ms/step - loss: 0.0295 - accuracy: 0.9904 - val_loss: 0.0310 - val_accuracy: 0.9902\n",
      "Epoch 9/12\n",
      "60000/60000 [==============================] - 109s 2ms/step - loss: 0.0271 - accuracy: 0.9914 - val_loss: 0.0293 - val_accuracy: 0.9908\n",
      "Epoch 10/12\n",
      "60000/60000 [==============================] - 106s 2ms/step - loss: 0.0247 - accuracy: 0.9920 - val_loss: 0.0287 - val_accuracy: 0.9920\n",
      "Epoch 11/12\n",
      "60000/60000 [==============================] - 107s 2ms/step - loss: 0.0244 - accuracy: 0.9917 - val_loss: 0.0262 - val_accuracy: 0.9924\n",
      "Epoch 12/12\n",
      "60000/60000 [==============================] - 109s 2ms/step - loss: 0.0206 - accuracy: 0.9933 - val_loss: 0.0261 - val_accuracy: 0.9922\n"
     ]
    },
    {
     "data": {
      "text/plain": [
       "<keras.callbacks.callbacks.History at 0x2686e71ee08>"
      ]
     },
     "execution_count": 10,
     "metadata": {},
     "output_type": "execute_result"
    }
   ],
   "source": [
    "batch_size = 128\n",
    "\n",
    "num_classes = 10\n",
    "\n",
    "epochs = 12\n",
    "\n",
    "model.fit(x_train, y_train,\n",
    "          batch_size=batch_size,\n",
    "          epochs=epochs,\n",
    "          verbose=1,\n",
    "          validation_data=(x_test, y_test))"
   ]
  },
  {
   "cell_type": "code",
   "execution_count": 11,
   "metadata": {},
   "outputs": [
    {
     "name": "stdout",
     "output_type": "stream",
     "text": [
      "Test loss: 0.026119634902073335\n",
      "Test accuracy: 0.9922000169754028\n"
     ]
    }
   ],
   "source": [
    "score = model.evaluate(x_test, y_test, verbose=0)\n",
    "print('Test loss:', score[0])\n",
    "print('Test accuracy:', score[1])"
   ]
  },
  {
   "cell_type": "markdown",
   "metadata": {},
   "source": [
    "# Transfer Learning \n",
    "\n",
    "<img src = \"https://cdn-images-1.medium.com/freeze/max/1000/1*ZJmOqK41yURkbJpCvbLPhg.png?q=20\" height = \"100\">\n",
    "\n",
    "\n",
    "\n",
    "Our model has 8 layers. Let's freeze the first 6 layers to then feature extract on the last 2 layers. \n"
   ]
  },
  {
   "cell_type": "code",
   "execution_count": 12,
   "metadata": {},
   "outputs": [],
   "source": [
    "for layer in model.layers[:6]:\n",
    "    layer.trainable = False\n",
    "    \n",
    "for layer in model.layers[6:]:\n",
    "    layer.trainable=True\n",
    "    \n",
    "    "
   ]
  },
  {
   "cell_type": "code",
   "execution_count": 13,
   "metadata": {},
   "outputs": [],
   "source": [
    "# Let's load and format pur new dataset: the MNIST Fashion Data set"
   ]
  },
  {
   "cell_type": "code",
   "execution_count": 14,
   "metadata": {},
   "outputs": [
    {
     "name": "stdout",
     "output_type": "stream",
     "text": [
      "x_train shape: (60000, 28, 28)\n",
      "60000 train samples\n",
      "10000 test samples\n"
     ]
    }
   ],
   "source": [
    "from keras.datasets import fashion_mnist\n",
    "(x_train, y_train), (x_test, y_test) = fashion_mnist.load_data()\n",
    "\n",
    "\n",
    "\n",
    "x_train = x_train.astype('float32')\n",
    "x_test = x_test.astype('float32')\n",
    "x_train /= 255\n",
    "x_test /= 255\n",
    "print('x_train shape:', x_train.shape)\n",
    "print(x_train.shape[0], 'train samples')\n",
    "print(x_test.shape[0], 'test samples')\n",
    "\n",
    "# convert class vectors to binary class matrices\n",
    "y_train = to_categorical(y_train, num_classes)\n",
    "y_test = to_categorical(y_test, num_classes)\n",
    "\n",
    "x_train = x_train.reshape(x_train.shape[0], img_rows, img_cols, 1)\n",
    "x_test = x_test.reshape(x_test.shape[0], img_rows, img_cols, 1)\n",
    "input_shape = (img_rows, img_cols, 1)"
   ]
  },
  {
   "cell_type": "code",
   "execution_count": 15,
   "metadata": {},
   "outputs": [
    {
     "data": {
      "image/png": "[encoded data removed]",
      "text/plain": [
       "<Figure size 432x288 with 1 Axes>"
      ]
     },
     "metadata": {
      "needs_background": "light"
     },
     "output_type": "display_data"
    }
   ],
   "source": [
    "img = np.squeeze(x_train[0,...])\n",
    "\n",
    "plt.figure()\n",
    "plt.imshow(img)\n",
    "plt.show()\n"
   ]
  },
  {
   "cell_type": "code",
   "execution_count": 16,
   "metadata": {},
   "outputs": [],
   "source": [
    "batch_size = 128\n",
    "\n"
   ]
  },
  {
   "cell_type": "markdown",
   "metadata": {},
   "source": [
    "Let's look at the model architecture"
   ]
  },
  {
   "cell_type": "code",
   "execution_count": 17,
   "metadata": {},
   "outputs": [
    {
     "name": "stdout",
     "output_type": "stream",
     "text": [
      "Model: \"sequential_3\"\n",
      "_________________________________________________________________\n",
      "Layer (type)                 Output Shape              Param #   \n",
      "=================================================================\n",
      "conv2d_5 (Conv2D)            (None, 26, 26, 32)        320       \n",
      "_________________________________________________________________\n",
      "conv2d_6 (Conv2D)            (None, 24, 24, 64)        18496     \n",
      "_________________________________________________________________\n",
      "max_pooling2d_3 (MaxPooling2 (None, 12, 12, 64)        0         \n",
      "_________________________________________________________________\n",
      "dropout_5 (Dropout)          (None, 12, 12, 64)        0         \n",
      "_________________________________________________________________\n",
      "flatten_3 (Flatten)          (None, 9216)              0         \n",
      "_________________________________________________________________\n",
      "dense_5 (Dense)              (None, 128)               1179776   \n",
      "_________________________________________________________________\n",
      "dropout_6 (Dropout)          (None, 128)               0         \n",
      "_________________________________________________________________\n",
      "dense_6 (Dense)              (None, 10)                1290      \n",
      "=================================================================\n",
      "Total params: 2,398,474\n",
      "Trainable params: 1,199,882\n",
      "Non-trainable params: 1,198,592\n",
      "_________________________________________________________________\n"
     ]
    },
    {
     "name": "stderr",
     "output_type": "stream",
     "text": [
      "C:\\Users\\coder\\Anaconda3\\envs\\tf_gpu\\lib\\site-packages\\keras\\engine\\training.py:297: UserWarning: Discrepancy between trainable weights and collected trainable weights, did you set `model.trainable` without calling `model.compile` after ?\n",
      "  'Discrepancy between trainable weights and collected trainable'\n"
     ]
    }
   ],
   "source": [
    "model.summary()"
   ]
  },
  {
   "cell_type": "code",
   "execution_count": 18,
   "metadata": {
    "scrolled": true
   },
   "outputs": [
    {
     "name": "stdout",
     "output_type": "stream",
     "text": [
      "Train on 60000 samples, validate on 10000 samples\n",
      "Epoch 13/22\n",
      "60000/60000 [==============================] - 107s 2ms/step - loss: 0.5322 - accuracy: 0.8195 - val_loss: 0.3301 - val_accuracy: 0.8816\n",
      "Epoch 14/22\n",
      "60000/60000 [==============================] - 104s 2ms/step - loss: 0.3316 - accuracy: 0.8791 - val_loss: 0.2948 - val_accuracy: 0.8957\n",
      "Epoch 15/22\n",
      "60000/60000 [==============================] - 105s 2ms/step - loss: 0.2938 - accuracy: 0.8940 - val_loss: 0.2675 - val_accuracy: 0.9022\n",
      "Epoch 16/22\n",
      "60000/60000 [==============================] - 105s 2ms/step - loss: 0.2668 - accuracy: 0.9025 - val_loss: 0.2578 - val_accuracy: 0.9050\n",
      "Epoch 17/22\n",
      "60000/60000 [==============================] - 105s 2ms/step - loss: 0.2467 - accuracy: 0.9090 - val_loss: 0.2401 - val_accuracy: 0.9120\n",
      "Epoch 18/22\n",
      "60000/60000 [==============================] - 106s 2ms/step - loss: 0.2308 - accuracy: 0.9158 - val_loss: 0.2476 - val_accuracy: 0.9100\n",
      "Epoch 19/22\n",
      "60000/60000 [==============================] - 107s 2ms/step - loss: 0.2174 - accuracy: 0.9201 - val_loss: 0.2365 - val_accuracy: 0.9166\n",
      "Epoch 20/22\n",
      "60000/60000 [==============================] - 105s 2ms/step - loss: 0.2036 - accuracy: 0.9254 - val_loss: 0.2311 - val_accuracy: 0.9172\n",
      "Epoch 21/22\n",
      "60000/60000 [==============================] - 104s 2ms/step - loss: 0.1934 - accuracy: 0.9276 - val_loss: 0.2335 - val_accuracy: 0.9150\n",
      "Epoch 22/22\n",
      "60000/60000 [==============================] - 102s 2ms/step - loss: 0.1825 - accuracy: 0.9315 - val_loss: 0.2247 - val_accuracy: 0.9245\n"
     ]
    }
   ],
   "source": [
    "fine_tune_epochs = 10;\n",
    "total_epochs = epochs + fine_tune_epochs\n",
    "\n",
    "history_fine = model.fit(x_train, y_train,\n",
    "          batch_size=batch_size,\n",
    "          epochs=total_epochs, initial_epoch = 12,\n",
    "          verbose=1,\n",
    "          validation_data=(x_test, y_test))"
   ]
  },
  {
   "cell_type": "code",
   "execution_count": 19,
   "metadata": {},
   "outputs": [
    {
     "name": "stdout",
     "output_type": "stream",
     "text": [
      "Test loss: 0.22467337379455565\n",
      "Test accuracy: 0.9244999885559082\n"
     ]
    }
   ],
   "source": [
    "score = model.evaluate(x_test, y_test, verbose=0)\n",
    "print('Test loss:', score[0])\n",
    "print('Test accuracy:', score[1])"
   ]
  },
  {
   "cell_type": "markdown",
   "metadata": {},
   "source": [
    "## Your Turn: Change the number of layers that we freeze"
   ]
  },
  {
   "cell_type": "code",
   "execution_count": 20,
   "metadata": {},
   "outputs": [],
   "source": [
    "# Insert Code Here\n",
    "\n",
    "for layer in model.layers[:4]:\n",
    "    layer.trainable = False\n",
    "    \n",
    "for layer in model.layers[4:]:\n",
    "    layer.trainable=True\n",
    "    "
   ]
  },
  {
   "cell_type": "markdown",
   "metadata": {},
   "source": [
    "## Train the model"
   ]
  },
  {
   "cell_type": "code",
   "execution_count": 21,
   "metadata": {},
   "outputs": [
    {
     "name": "stdout",
     "output_type": "stream",
     "text": [
      "Train on 60000 samples, validate on 10000 samples\n",
      "Epoch 13/22\n",
      "60000/60000 [==============================] - 104s 2ms/step - loss: 0.1740 - accuracy: 0.9347 - val_loss: 0.2260 - val_accuracy: 0.9203\n",
      "Epoch 14/22\n",
      "60000/60000 [==============================] - 107s 2ms/step - loss: 0.1638 - accuracy: 0.9387 - val_loss: 0.2286 - val_accuracy: 0.9235\n",
      "Epoch 15/22\n",
      "60000/60000 [==============================] - 108s 2ms/step - loss: 0.1533 - accuracy: 0.9427 - val_loss: 0.2287 - val_accuracy: 0.9250\n",
      "Epoch 16/22\n",
      "60000/60000 [==============================] - 109s 2ms/step - loss: 0.1466 - accuracy: 0.9451 - val_loss: 0.2312 - val_accuracy: 0.9231\n",
      "Epoch 17/22\n",
      "60000/60000 [==============================] - 108s 2ms/step - loss: 0.1410 - accuracy: 0.9455 - val_loss: 0.2323 - val_accuracy: 0.9230\n",
      "Epoch 18/22\n",
      "60000/60000 [==============================] - 106s 2ms/step - loss: 0.1369 - accuracy: 0.9484 - val_loss: 0.2343 - val_accuracy: 0.9264\n",
      "Epoch 19/22\n",
      "60000/60000 [==============================] - 106s 2ms/step - loss: 0.1313 - accuracy: 0.9490 - val_loss: 0.2417 - val_accuracy: 0.9246\n",
      "Epoch 20/22\n",
      "60000/60000 [==============================] - 107s 2ms/step - loss: 0.1250 - accuracy: 0.9521 - val_loss: 0.2384 - val_accuracy: 0.9254\n",
      "Epoch 21/22\n",
      "60000/60000 [==============================] - 109s 2ms/step - loss: 0.1208 - accuracy: 0.9541 - val_loss: 0.2448 - val_accuracy: 0.9260\n",
      "Epoch 22/22\n",
      "60000/60000 [==============================] - 106s 2ms/step - loss: 0.1152 - accuracy: 0.9555 - val_loss: 0.2352 - val_accuracy: 0.9279\n"
     ]
    }
   ],
   "source": [
    "# Insert Code Here\n",
    "fine_tune_epochs = 10;\n",
    "total_epochs = epochs + fine_tune_epochs\n",
    "\n",
    "history_fine = model.fit(x_train, y_train,\n",
    "          batch_size=batch_size,\n",
    "          epochs=total_epochs, initial_epoch = 12,\n",
    "          verbose=1,\n",
    "          validation_data=(x_test, y_test))"
   ]
  },
  {
   "cell_type": "markdown",
   "metadata": {},
   "source": [
    "## Evaluate Accuracy"
   ]
  },
  {
   "cell_type": "code",
   "execution_count": 22,
   "metadata": {},
   "outputs": [
    {
     "name": "stdout",
     "output_type": "stream",
     "text": [
      "Test loss: 0.2351897906422615\n",
      "Test accuracy: 0.9279000163078308\n"
     ]
    }
   ],
   "source": [
    "# Insert Code Here\n",
    "score = model.evaluate(x_test, y_test, verbose=0)\n",
    "print('Test loss:', score[0])\n",
    "print('Test accuracy:', score[1])"
   ]
  },
  {
   "cell_type": "code",
   "execution_count": null,
   "metadata": {},
   "outputs": [],
   "source": []
  }
 ],
 "metadata": {
  "kernelspec": {
   "display_name": "Python 3",
   "language": "python",
   "name": "python3"
  },
  "language_info": {
   "codemirror_mode": {
    "name": "ipython",
    "version": 3
   },
   "file_extension": ".py",
   "mimetype": "text/x-python",
   "name": "python",
   "nbconvert_exporter": "python",
   "pygments_lexer": "ipython3",
   "version": "3.7.5"
  }
 },
 "nbformat": 4,
 "nbformat_minor": 2
}
