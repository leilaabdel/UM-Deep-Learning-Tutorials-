{
 "cells": [
  {
   "cell_type": "markdown",
   "metadata": {},
   "source": [
    "# Training Techniques Implementation\n",
    "\n",
    "In today's lesson we will explore how different parameters like weight initialization, dropout, regularization, and others can affect training and testing accuracy. \n",
    "\n",
    "\n",
    "## We will be working with the same numbers data set\n",
    "\n",
    "<img src=\"https://i0.wp.com/syncedreview.com/wp-content/uploads/2019/06/MNIST.png\" style=\"height:450px\">"
   ]
  },
  {
   "cell_type": "markdown",
   "metadata": {},
   "source": [
    "# 1) Packages \n",
    "\n",
    "\n",
    "Let's first import all of the packages we need for this assignment. \n",
    "\n",
    "- [tensorflow](https://www.tensorflow.org/) is what we will use to build our neural networks \n",
    "\n",
    "- [matplotlib](https://matplotlib.org/) helps to plot data and visualize the data\n",
    "\n",
    "- [numpy](https://numpy.org/) helps us make our training and test set arrays\n",
    "\n",
    "- [keras](https://keras.io/) helps us to make our neural networks \n",
    "\n"
   ]
  },
  {
   "cell_type": "code",
   "execution_count": 1,
   "metadata": {},
   "outputs": [],
   "source": [
    "#Author: Leila Abdelrahman \n",
    "#Adapted from the Classify Images of Clothing Website by François Chollet, 2017, MIT\n",
    "\n",
    "\n",
    "\n",
    "\n",
    "\n",
    "#Import TensorFlow and Keras\n",
    "import tensorflow as tf\n",
    "from tensorflow import keras\n",
    "\n",
    "#Helper libraries\n",
    "import numpy as np\n",
    "import matplotlib.pyplot as plt\n",
    "\n",
    "\n",
    "\n",
    "\n",
    "\n"
   ]
  },
  {
   "cell_type": "markdown",
   "metadata": {},
   "source": [
    "# Import the MNIST dataset "
   ]
  },
  {
   "cell_type": "code",
   "execution_count": 2,
   "metadata": {},
   "outputs": [],
   "source": [
    "\n",
    "\n",
    "mnist = keras.datasets.mnist\n",
    "(train_images, train_labels), (test_images, test_labels) = mnist.load_data()\n",
    "\n",
    "#Loading the dataset should return 4 NumPy arrays\n",
    "\n",
    "#Next, add class name labels, as these are not included with the datast. Stoer them in an\n",
    "#array for later as we plot the images\n",
    "class_names =  ['0', '1', '2' , '3', '4', '5', '6', '7', '8', \n",
    "               '9']"
   ]
  },
  {
   "cell_type": "markdown",
   "metadata": {},
   "source": [
    "# Look at dataset parameter"
   ]
  },
  {
   "cell_type": "code",
   "execution_count": 3,
   "metadata": {},
   "outputs": [
    {
     "name": "stdout",
     "output_type": "stream",
     "text": [
      "(60000, 28, 28)\n"
     ]
    }
   ],
   "source": [
    "#Look at the parameters of the dataset\n",
    "\n",
    "#The data set contains 60,000 images in the training set, each represented as 28*28 poxels\n",
    "print(train_images.shape)\n",
    "\n",
    "\n",
    "\n"
   ]
  },
  {
   "cell_type": "code",
   "execution_count": 4,
   "metadata": {},
   "outputs": [
    {
     "data": {
      "text/plain": [
       "60000"
      ]
     },
     "execution_count": 4,
     "metadata": {},
     "output_type": "execute_result"
    }
   ],
   "source": [
    "#There are 60,000 traning labels \n",
    "len(train_labels)"
   ]
  },
  {
   "cell_type": "code",
   "execution_count": 5,
   "metadata": {},
   "outputs": [
    {
     "name": "stdout",
     "output_type": "stream",
     "text": [
      "[5 0 4 ... 5 6 8]\n"
     ]
    }
   ],
   "source": [
    "#Each label has an integer between 0 and 9;\n",
    "print(train_labels)\n"
   ]
  },
  {
   "cell_type": "code",
   "execution_count": 6,
   "metadata": {},
   "outputs": [
    {
     "name": "stdout",
     "output_type": "stream",
     "text": [
      "(10000, 28, 28)\n"
     ]
    }
   ],
   "source": [
    "#Thee are 10,000 images in the test set, each 28*28 pixels\n",
    "print(test_images.shape)"
   ]
  },
  {
   "cell_type": "markdown",
   "metadata": {},
   "source": [
    "# Data before normalization"
   ]
  },
  {
   "cell_type": "code",
   "execution_count": 7,
   "metadata": {},
   "outputs": [
    {
     "data": {
      "image/png": "[encoded data removed]",
      "text/plain": [
       "<Figure size 432x288 with 2 Axes>"
      ]
     },
     "metadata": {
      "needs_background": "light"
     },
     "output_type": "display_data"
    }
   ],
   "source": [
    "#Preprocess the data so that we can normalize the pixel values between a range of 0 and 1. \n",
    "#Normalization helps with training accuracy \n",
    "plt.figure()\n",
    "plt.imshow(train_images[0])\n",
    "plt.colorbar()\n",
    "plt.grid(False)\n",
    "plt.show()"
   ]
  },
  {
   "cell_type": "markdown",
   "metadata": {},
   "source": [
    "# Normalize the data by dividing by largest pixel value "
   ]
  },
  {
   "cell_type": "code",
   "execution_count": 8,
   "metadata": {},
   "outputs": [],
   "source": [
    "#We now want to scale the values. Do this by dividing by 255, hwhich is the largest pixel value \n",
    "\n",
    "train_images = train_images/255.0\n",
    "test_images = test_images/255.0\n"
   ]
  },
  {
   "cell_type": "markdown",
   "metadata": {},
   "source": [
    "# Look at new normalized pictures"
   ]
  },
  {
   "cell_type": "code",
   "execution_count": 9,
   "metadata": {},
   "outputs": [
    {
     "data": {
      "image/png": "[encoded data removed]",
      "text/plain": [
       "<Figure size 432x288 with 25 Axes>"
      ]
     },
     "metadata": {},
     "output_type": "display_data"
    }
   ],
   "source": [
    "#Verify that the data is in the correct format and that it is standardized \n",
    "\n",
    "for i in range (25):\n",
    "    plt.rcParams.update({'font.size': 10})\n",
    "    plt.subplot(5,5,i+1)\n",
    "    plt.xticks([])\n",
    "    plt.yticks([])\n",
    "    plt.grid(False)\n",
    "    plt.imshow(train_images[i], cmap = plt.cm.binary)\n",
    "    plt.xlabel(class_names[train_labels[i]])\n",
    "\n",
    "plt.show()"
   ]
  },
  {
   "cell_type": "markdown",
   "metadata": {},
   "source": [
    "# Build the original model. \n",
    "\n",
    "## Every neural network is composed of layers. Each layer repreents extracting  representations from the data fed into them. \n",
    "\n",
    "- This neural network has 3 layers. \n",
    "- The first layer (Flatten), transforms the image data from a 2d array to a 1d array\n",
    "- The second layer is a Dense function (a densly connected neural layer, which as 128 nodes, or neurons) \n",
    "- The last layer has 10 nodes, and uses the softmax activation function. \n",
    "\n",
    "Softmax activation functions return probability scores  tht sum to 1. MAKE SURE THE NUMBER OF NODES IN THE LAST LAYER IS EQUAL TO THE NUMBER OF CLASSES. "
   ]
  },
  {
   "cell_type": "code",
   "execution_count": 10,
   "metadata": {},
   "outputs": [],
   "source": [
    "\n",
    "\n",
    "model = keras.Sequential([\n",
    "    keras.layers.Flatten(input_shape = (28,28)) ,\n",
    "    keras.layers.Dense(128, activation = 'relu'),\n",
    "    keras.layers.Dense(10, activation = 'softmax')\n",
    "])\n",
    "\n"
   ]
  },
  {
   "cell_type": "markdown",
   "metadata": {},
   "source": [
    "## Let's look at the anatomy of the model. This outlines what each layer is, and how many parameters (arguments) there are. "
   ]
  },
  {
   "cell_type": "code",
   "execution_count": 11,
   "metadata": {},
   "outputs": [
    {
     "name": "stdout",
     "output_type": "stream",
     "text": [
      "Model: \"sequential\"\n",
      "_________________________________________________________________\n",
      "Layer (type)                 Output Shape              Param #   \n",
      "=================================================================\n",
      "flatten (Flatten)            (None, 784)               0         \n",
      "_________________________________________________________________\n",
      "dense (Dense)                (None, 128)               100480    \n",
      "_________________________________________________________________\n",
      "dense_1 (Dense)              (None, 10)                1290      \n",
      "=================================================================\n",
      "Total params: 101,770\n",
      "Trainable params: 101,770\n",
      "Non-trainable params: 0\n",
      "_________________________________________________________________\n",
      "None\n"
     ]
    }
   ],
   "source": [
    "\n",
    "\n",
    "print(model.summary())\n",
    "\n"
   ]
  },
  {
   "cell_type": "markdown",
   "metadata": {},
   "source": [
    "# Now it's your turn: Build a model with different types of Weight initialization\n",
    "\n",
    "You can try Xavier, Random, All Zeroes, etc. "
   ]
  },
  {
   "cell_type": "code",
   "execution_count": 21,
   "metadata": {},
   "outputs": [],
   "source": [
    "# Define model2 as including weight initialization\n",
    "model2 = keras.Sequential([\n",
    "    keras.layers.Flatten(input_shape = (28,28)) ,\n",
    "    keras.layers.Dense(128, activation = 'relu' , kernel_initializer = \"glorot_normal\"),\n",
    "    keras.layers.Dense(10, activation = 'softmax' , kernel_initializer = \"glorot_normal\")\n",
    "    \n",
    "])"
   ]
  },
  {
   "cell_type": "markdown",
   "metadata": {},
   "source": [
    "# Now it's your turn: Build a model with Dropout.\n",
    "Now, add dropout to your model2 and call it model3.\n",
    "Make sure to play around with the dropout rate to see how that affects accuracy. "
   ]
  },
  {
   "cell_type": "code",
   "execution_count": 18,
   "metadata": {},
   "outputs": [],
   "source": [
    "#Define model3 with dropout \n",
    "model3 = keras.Sequential([\n",
    "    keras.layers.Flatten(input_shape = (28,28)) ,\n",
    "    keras.layers.Dense(128, activation = 'relu' , kernel_initializer = \"glorot_normal\"),\n",
    "    keras.layers.Dropout(0.5),\n",
    "    keras.layers.Dense(10, activation = 'softmax' , kernel_initializer = \"glorot_normal\")\n",
    "    \n",
    "])"
   ]
  },
  {
   "cell_type": "markdown",
   "metadata": {},
   "source": [
    "# Complile the models with optimizer, loss, and metrics \n",
    "\n",
    "- Loss function: steers the model in the right direction. Loss is calculated by how accurate the model is at classifying\n",
    "- Optimizer: the model uses an optimization funcition to minizmize the loss function\n",
    " - Metrics: Records accuracy of how well the model correctly classifies the images\n",
    " \n",
    " \n",
    " \n",
    " Change the loss function and the optimizer function to see how that may affect accuracy"
   ]
  },
  {
   "cell_type": "code",
   "execution_count": 23,
   "metadata": {},
   "outputs": [],
   "source": [
    "# Here is an example for the orginal model\n",
    "\n",
    "model.compile(optimizer = 'adam' , \n",
    "    loss = 'sparse_categorical_crossentropy', \n",
    "    metrics = ['accuracy'])\n",
    "\n",
    "\n",
    "#Add code here to compile and add different loss and optimizers for the new model2 and model3\n",
    "\n",
    "\n",
    "\n",
    "#Model2:\n",
    "\n",
    "\n",
    "model2.compile(optimizer = 'nadam' , \n",
    "    loss = 'sparse_categorical_crossentropy', \n",
    "    metrics = ['accuracy'])\n",
    "\n",
    "\n",
    "\n",
    "\n",
    "\n",
    "#Model3:\n",
    "\n",
    "\n",
    "\n",
    "\n",
    "model3.compile(optimizer = 'adagrad' , \n",
    "    loss = 'sparse_categorical_crossentropy', \n",
    "    metrics = ['accuracy'])\n",
    "\n",
    "\n",
    "\n",
    "\n",
    "\n"
   ]
  },
  {
   "cell_type": "markdown",
   "metadata": {},
   "source": [
    "# Train the models\n",
    "\n",
    "- Step 1: feed the training data to the model. In this case it is the train_images and train_labels arrays\n",
    "- Step 2: Model learns over a series of epochs. Each epoch represents one \"step\" in the learning process\n",
    "- Step 3\" Ask the model to make predictions about the test set. \n"
   ]
  },
  {
   "cell_type": "code",
   "execution_count": 24,
   "metadata": {},
   "outputs": [
    {
     "name": "stdout",
     "output_type": "stream",
     "text": [
      "Train on 60000 samples\n",
      "Epoch 1/10\n",
      "60000/60000 [==============================] - 4s 67us/sample - loss: 0.2622 - accuracy: 0.9259\n",
      "Epoch 2/10\n",
      "60000/60000 [==============================] - 3s 58us/sample - loss: 0.1143 - accuracy: 0.9661\n",
      "Epoch 3/10\n",
      "60000/60000 [==============================] - 3s 58us/sample - loss: 0.0788 - accuracy: 0.9767\n",
      "Epoch 4/10\n",
      "60000/60000 [==============================] - 3s 58us/sample - loss: 0.0593 - accuracy: 0.9817\n",
      "Epoch 5/10\n",
      "60000/60000 [==============================] - 3s 58us/sample - loss: 0.0447 - accuracy: 0.9865\n",
      "Epoch 6/10\n",
      "60000/60000 [==============================] - 3s 58us/sample - loss: 0.0357 - accuracy: 0.9891\n",
      "Epoch 7/10\n",
      "60000/60000 [==============================] - 3s 58us/sample - loss: 0.0288 - accuracy: 0.9912\n",
      "Epoch 8/10\n",
      "60000/60000 [==============================] - 3s 57us/sample - loss: 0.0232 - accuracy: 0.9930\n",
      "Epoch 9/10\n",
      "60000/60000 [==============================] - 3s 57us/sample - loss: 0.0197 - accuracy: 0.9939\n",
      "Epoch 10/10\n",
      "60000/60000 [==============================] - 3s 58us/sample - loss: 0.0154 - accuracy: 0.9954\n",
      "Train on 60000 samples\n",
      "Epoch 1/10\n",
      "60000/60000 [==============================] - 4s 73us/sample - loss: 0.2610 - accuracy: 0.9262\n",
      "Epoch 2/10\n",
      "60000/60000 [==============================] - 4s 65us/sample - loss: 0.1136 - accuracy: 0.9662\n",
      "Epoch 3/10\n",
      "60000/60000 [==============================] - 4s 64us/sample - loss: 0.0782 - accuracy: 0.9761\n",
      "Epoch 4/10\n",
      "60000/60000 [==============================] - 4s 65us/sample - loss: 0.0579 - accuracy: 0.9822\n",
      "Epoch 5/10\n",
      "60000/60000 [==============================] - 4s 65us/sample - loss: 0.0457 - accuracy: 0.9854\n",
      "Epoch 6/10\n",
      "60000/60000 [==============================] - 4s 64us/sample - loss: 0.0361 - accuracy: 0.9886\n",
      "Epoch 7/10\n",
      "60000/60000 [==============================] - 4s 65us/sample - loss: 0.0281 - accuracy: 0.9915\n",
      "Epoch 8/10\n",
      "60000/60000 [==============================] - 4s 65us/sample - loss: 0.0235 - accuracy: 0.9927\n",
      "Epoch 9/10\n",
      "60000/60000 [==============================] - 4s 65us/sample - loss: 0.0197 - accuracy: 0.9942\n",
      "Epoch 10/10\n",
      "60000/60000 [==============================] - 4s 65us/sample - loss: 0.0171 - accuracy: 0.9946\n",
      "Train on 60000 samples\n",
      "Epoch 1/10\n",
      "60000/60000 [==============================] - 4s 71us/sample - loss: 0.9713 - accuracy: 0.7254\n",
      "Epoch 2/10\n",
      "60000/60000 [==============================] - 4s 64us/sample - loss: 0.6450 - accuracy: 0.8146\n",
      "Epoch 3/10\n",
      "60000/60000 [==============================] - 4s 64us/sample - loss: 0.5728 - accuracy: 0.8335\n",
      "Epoch 4/10\n",
      "60000/60000 [==============================] - 4s 64us/sample - loss: 0.5313 - accuracy: 0.8462\n",
      "Epoch 5/10\n",
      "60000/60000 [==============================] - 4s 65us/sample - loss: 0.5043 - accuracy: 0.8541\n",
      "Epoch 6/10\n",
      "60000/60000 [==============================] - 4s 65us/sample - loss: 0.4845 - accuracy: 0.8601\n",
      "Epoch 7/10\n",
      "60000/60000 [==============================] - 4s 65us/sample - loss: 0.4701 - accuracy: 0.8661\n",
      "Epoch 8/10\n",
      "60000/60000 [==============================] - 4s 65us/sample - loss: 0.4567 - accuracy: 0.8684\n",
      "Epoch 9/10\n",
      "60000/60000 [==============================] - 4s 65us/sample - loss: 0.4433 - accuracy: 0.8719\n",
      "Epoch 10/10\n",
      "60000/60000 [==============================] - 4s 65us/sample - loss: 0.4378 - accuracy: 0.8740\n"
     ]
    },
    {
     "data": {
      "text/plain": [
       "<tensorflow.python.keras.callbacks.History at 0x25d79f72188>"
      ]
     },
     "execution_count": 24,
     "metadata": {},
     "output_type": "execute_result"
    }
   ],
   "source": [
    "#Original model\n",
    "\n",
    "model.fit(train_images, train_labels, epochs = 10)\n",
    "\n",
    "\n",
    "\n",
    "\n",
    "\n"
   ]
  },
  {
   "cell_type": "code",
   "execution_count": 25,
   "metadata": {},
   "outputs": [
    {
     "name": "stdout",
     "output_type": "stream",
     "text": [
      "Train on 60000 samples\n",
      "Epoch 1/10\n",
      "60000/60000 [==============================] - 4s 66us/sample - loss: 0.0136 - accuracy: 0.9961\n",
      "Epoch 2/10\n",
      "60000/60000 [==============================] - 4s 66us/sample - loss: 0.0119 - accuracy: 0.9961\n",
      "Epoch 3/10\n",
      "60000/60000 [==============================] - 4s 66us/sample - loss: 0.0104 - accuracy: 0.9968\n",
      "Epoch 4/10\n",
      "60000/60000 [==============================] - 4s 66us/sample - loss: 0.0095 - accuracy: 0.9973\n",
      "Epoch 5/10\n",
      "60000/60000 [==============================] - 4s 66us/sample - loss: 0.0092 - accuracy: 0.9970\n",
      "Epoch 6/10\n",
      "60000/60000 [==============================] - 4s 66us/sample - loss: 0.0067 - accuracy: 0.9980\n",
      "Epoch 7/10\n",
      "60000/60000 [==============================] - 4s 66us/sample - loss: 0.0067 - accuracy: 0.9979\n",
      "Epoch 8/10\n",
      "60000/60000 [==============================] - 4s 65us/sample - loss: 0.0057 - accuracy: 0.9981\n",
      "Epoch 9/10\n",
      "60000/60000 [==============================] - 4s 66us/sample - loss: 0.0064 - accuracy: 0.9982\n",
      "Epoch 10/10\n",
      "60000/60000 [==============================] - 4s 66us/sample - loss: 0.0059 - accuracy: 0.9980\n"
     ]
    },
    {
     "data": {
      "text/plain": [
       "<tensorflow.python.keras.callbacks.History at 0x25d7a3ccec8>"
      ]
     },
     "execution_count": 25,
     "metadata": {},
     "output_type": "execute_result"
    }
   ],
   "source": [
    "#Add code here for model2:\n",
    "\n",
    "\n",
    "model2.fit(train_images, train_labels, epochs = 10)\n",
    "\n"
   ]
  },
  {
   "cell_type": "code",
   "execution_count": 26,
   "metadata": {},
   "outputs": [
    {
     "name": "stdout",
     "output_type": "stream",
     "text": [
      "Train on 60000 samples\n",
      "Epoch 1/10\n",
      "60000/60000 [==============================] - 4s 65us/sample - loss: 0.4255 - accuracy: 0.8780\n",
      "Epoch 2/10\n",
      "60000/60000 [==============================] - 4s 66us/sample - loss: 0.4206 - accuracy: 0.8788\n",
      "Epoch 3/10\n",
      "60000/60000 [==============================] - 4s 66us/sample - loss: 0.4145 - accuracy: 0.8826s - loss: 0.4143 - accuracy: 0.\n",
      "Epoch 4/10\n",
      "60000/60000 [==============================] - 4s 66us/sample - loss: 0.4100 - accuracy: 0.8814\n",
      "Epoch 5/10\n",
      "60000/60000 [==============================] - 4s 66us/sample - loss: 0.3995 - accuracy: 0.8853\n",
      "Epoch 6/10\n",
      "60000/60000 [==============================] - 4s 66us/sample - loss: 0.3965 - accuracy: 0.8876\n",
      "Epoch 7/10\n",
      "60000/60000 [==============================] - 4s 66us/sample - loss: 0.3920 - accuracy: 0.8872\n",
      "Epoch 8/10\n",
      "60000/60000 [==============================] - 4s 65us/sample - loss: 0.3885 - accuracy: 0.8884\n",
      "Epoch 9/10\n",
      "60000/60000 [==============================] - 4s 65us/sample - loss: 0.3825 - accuracy: 0.8904\n",
      "Epoch 10/10\n",
      "60000/60000 [==============================] - 4s 65us/sample - loss: 0.3769 - accuracy: 0.8914s - loss: 0.3768 - accuracy: 0.\n"
     ]
    },
    {
     "data": {
      "text/plain": [
       "<tensorflow.python.keras.callbacks.History at 0x25d7a4338c8>"
      ]
     },
     "execution_count": 26,
     "metadata": {},
     "output_type": "execute_result"
    }
   ],
   "source": [
    "\n",
    "#Add code here for model3:\n",
    "\n",
    "model3.fit(train_images, train_labels, epochs = 10)\n"
   ]
  },
  {
   "cell_type": "markdown",
   "metadata": {},
   "source": [
    "# Now test the models on the test set and evaluate accuracy \n",
    "\n",
    "You will notice that the test accuracy is less than the training accuracy. Look at how overfitting compares after adding weight \n",
    "initialization and dropout\n"
   ]
  },
  {
   "cell_type": "code",
   "execution_count": 27,
   "metadata": {},
   "outputs": [
    {
     "name": "stdout",
     "output_type": "stream",
     "text": [
      "10000/1 - 0s - loss: 0.0443 - accuracy: 0.9752\n",
      "\n",
      " Model 1 Test accuracy: 0.9752\n",
      "10000/1 - 0s - loss: 0.0501 - accuracy: 0.9793\n",
      "\n",
      " Model 2 Test accuracy: 0.9793\n",
      "10000/1 - 0s - loss: 0.0501 - accuracy: 0.9793\n",
      "\n",
      " Model 3 Test accuracy: 0.9793\n"
     ]
    }
   ],
   "source": [
    "\n",
    "#model1:\n",
    "test_loss, test_acc = model.evaluate(test_images, test_labels, verbose = 2)\n",
    "print('\\n Model 1 Test accuracy:', test_acc)\n",
    "\n",
    "\n",
    "#model2: Add code here:\n",
    "\n",
    "\n",
    "\n",
    "test_loss, test_acc = model2.evaluate(test_images, test_labels, verbose = 2)\n",
    "print('\\n Model 2 Test accuracy:', test_acc)\n",
    "\n",
    "#model3: Add Code here: \n",
    "\n",
    "\n",
    "test_loss, test_acc = model2.evaluate(test_images, test_labels, verbose = 2)\n",
    "print('\\n Model 3 Test accuracy:', test_acc)\n",
    "\n",
    "\n",
    "\n",
    "\n",
    "\n",
    "\n"
   ]
  },
  {
   "cell_type": "markdown",
   "metadata": {},
   "source": []
  },
  {
   "cell_type": "code",
   "execution_count": null,
   "metadata": {},
   "outputs": [],
   "source": []
  },
  {
   "cell_type": "code",
   "execution_count": null,
   "metadata": {},
   "outputs": [],
   "source": []
  },
  {
   "cell_type": "code",
   "execution_count": null,
   "metadata": {},
   "outputs": [],
   "source": []
  }
 ],
 "metadata": {
  "kernelspec": {
   "display_name": "tf_gpu",
   "language": "python",
   "name": "tf_gpu"
  },
  "language_info": {
   "codemirror_mode": {
    "name": "ipython",
    "version": 3
   },
   "file_extension": ".py",
   "mimetype": "text/x-python",
   "name": "python",
   "nbconvert_exporter": "python",
   "pygments_lexer": "ipython3",
   "version": "3.7.5"
  }
 },
 "nbformat": 4,
 "nbformat_minor": 4
}
