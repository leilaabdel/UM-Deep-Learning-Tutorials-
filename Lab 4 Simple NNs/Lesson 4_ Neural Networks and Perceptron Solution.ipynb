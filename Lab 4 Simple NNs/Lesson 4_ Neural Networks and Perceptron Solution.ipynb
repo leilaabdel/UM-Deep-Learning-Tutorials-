{
 "cells": [
  {
   "cell_type": "markdown",
   "metadata": {},
   "source": [
    "# Welcome to an Introduction to Neural Networks, TensforFlow, and Prerceptron \n",
    "\n",
    "## We well be working to classify images as either cats or dogs using a binary perceptron classifier. \n",
    "\n",
    "\n",
    "                                             \n",
    "<img src=\"https://miro.medium.com/max/1920/1*eEKb2RxREV6-MtLz2DNWFQ.gif\" style=\"height:450px\">\n",
    "\n",
    "\n",
    "\n",
    "## Perceptron Introduction \n",
    "<img src=\"https://miro.medium.com/max/1435/1*n6sJ4yZQzwKL9wnF5wnVNg.png\" style=\"height:450px\">\n",
    "\n",
    "### The perceptron network consists of the input nodes, that are matched to weights. The network is a dot product of the node vector and the weight vector. \n",
    "\n",
    "### Below you will see the dot product function\n",
    "\n",
    "<img src=\"https://miro.medium.com/max/870/1*Fyapb-JRFJ-VtnLYLLXCwg.png\" style=\"height:450px\">"
   ]
  },
  {
   "cell_type": "markdown",
   "metadata": {},
   "source": [
    "# 1) Packages \n",
    "\n",
    "Let's first import all of the packages we need for this assignment. \n",
    "\n",
    "- [tensorflow](https://www.tensorflow.org/) is what we will use to build our neural networks \n",
    "\n",
    "- [matplotlib](https://matplotlib.org/) helps to plot data and visualize the data\n",
    "\n",
    "- [numpy](https://numpy.org/) helps us make our training and test set arrays\n",
    "\n",
    "- [keras](https://keras.io/) helps us to make our neural networks \n",
    "\n"
   ]
  },
  {
   "cell_type": "code",
   "execution_count": 1,
   "metadata": {
    "scrolled": true
   },
   "outputs": [],
   "source": [
    "#Author: Leila Abdelrahman \n",
    "#Adapted from the Classify Images of Clothing Website by François Chollet, 2017, MIT\n",
    "#Adapted from https://visualstudiomagazine.com/Articles/2013/04/01/Classification-Using-Perceptrons.aspx?Page=1\n",
    "#Adapted from https://machinelearningmastery.com/implement-perceptron-algorithm-scratch-python/\n",
    "\n",
    "\n",
    "#Import TensorFlow and Keras\n",
    "import tensorflow as tf\n",
    "from tensorflow import keras\n",
    "\n",
    "#Helper libraries\n",
    "import numpy as np\n",
    "import matplotlib.pyplot as plt\n",
    "from PIL import Image \n",
    "import cv2\n"
   ]
  },
  {
   "cell_type": "markdown",
   "metadata": {},
   "source": [
    "# 2) Download the Bird and Fish Training Set\n",
    "\n",
    "Download the BirdvFish data folder and store in the Downloads Folder on the localdisk \n"
   ]
  },
  {
   "cell_type": "markdown",
   "metadata": {},
   "source": [
    "# 3) Designate the destination folder for the photos. \n",
    "This is done by creating a new direcotory with subdirectories for the train and test set"
   ]
  },
  {
   "cell_type": "code",
   "execution_count": 2,
   "metadata": {},
   "outputs": [],
   "source": [
    "# organize dataset into a useful structure\n",
    "from os import makedirs\n",
    "from os import listdir\n",
    "from shutil import copyfile\n",
    "from random import seed\n",
    "from random import random\n",
    "\n",
    "\n",
    "# organize dataset into a useful structure\n",
    "from os import makedirs\n",
    "from os import listdir\n",
    "from shutil import copyfile\n",
    "from random import seed\n",
    "from random import random\n",
    "# create directories\n",
    "dataset_home = 'Downloads/BirdsvFishValidation/'\n",
    "subdirs = ['train/', 'test/']\n",
    "for subdir in subdirs:\n",
    "    # create label subdirectories\n",
    "    labeldirs = ['birds/', 'fish/']\n",
    "    for labldir in labeldirs:\n",
    "        newdir = dataset_home + subdir + labldir\n",
    "        makedirs(newdir, exist_ok=True)\n"
   ]
  },
  {
   "cell_type": "markdown",
   "metadata": {},
   "source": [
    "# 4) Split the data into training and test sets\n",
    "\n",
    "\n",
    "\n",
    "Parse through the original source directory and add the respective files into their respective destination directories. \n",
    "\n",
    "This process is done randomly \n",
    "\n",
    "The val_ratio determines what ratio of the photos will be used as the test set "
   ]
  },
  {
   "cell_type": "code",
   "execution_count": 3,
   "metadata": {},
   "outputs": [],
   "source": [
    "\n",
    "# seed random number generator\n",
    "seed(1)\n",
    "# define ratio of pictures to use for validation\n",
    "val_ratio = 0.25\n",
    "# copy training dataset images into subdirectories\n",
    "src_directory = 'Downloads/BirdsvFish'\n",
    "for file in listdir(src_directory):\n",
    "    src = src_directory + '/' + file\n",
    "\n",
    "    dst_dir = 'train/'\n",
    "    if random() < val_ratio:\n",
    "        dst_dir = 'test/'\n",
    "    if file.startswith('bird'):\n",
    "        dst = dataset_home + dst_dir + 'birds/'  + file\n",
    "        copyfile(src, dst)\n",
    "    elif file.startswith('fish'):\n",
    "        dst = dataset_home + dst_dir + 'fish/'  + file\n",
    "        copyfile(src, dst)"
   ]
  },
  {
   "cell_type": "markdown",
   "metadata": {},
   "source": [
    "# 5) Make a class label array to match numbers to class names"
   ]
  },
  {
   "cell_type": "code",
   "execution_count": 12,
   "metadata": {},
   "outputs": [],
   "source": [
    "class_names = ['bird', 'fish']"
   ]
  },
  {
   "cell_type": "markdown",
   "metadata": {},
   "source": [
    "# 6) Rescale the images and read into a directory iterator\n",
    "\n",
    "Normalization helps to increase speed and accuracy of the model. Divide the images by 255 to generate new rescaled \n",
    "pixels with values between 0 and 1. \n",
    "\n",
    "Then, convert the directories into arrays. "
   ]
  },
  {
   "cell_type": "code",
   "execution_count": 10,
   "metadata": {},
   "outputs": [
    {
     "name": "stdout",
     "output_type": "stream",
     "text": [
      "Found 105 images belonging to 2 classes.\n",
      "Found 39 images belonging to 2 classes.\n"
     ]
    }
   ],
   "source": [
    "from keras.preprocessing.image import ImageDataGenerator\n",
    "\n",
    "batch_size = 39\n",
    "\n",
    "datagen = ImageDataGenerator(rescale= 1/255)\n",
    "\n",
    "#training directory iterator\n",
    "train_it = datagen.flow_from_directory('Downloads/BirdsvFishValidation/train/',\n",
    "\tclass_mode='binary', batch_size = batch_size , target_size=(200, 200))\n",
    "\n",
    "\n",
    "\n",
    "#testing directory iterator\n",
    "test_it = datagen.flow_from_directory('Downloads/BirdsvFishValidation/test/',\n",
    "\tclass_mode='binary', batch_size= batch_size, target_size=(200, 200))\n",
    "\n",
    "#Convert to arrays\n",
    "x, y = train_it.next()\n",
    "X, Y = test_it.next()\n",
    "\n",
    "\n",
    "    "
   ]
  },
  {
   "cell_type": "markdown",
   "metadata": {},
   "source": [
    "# 6) Convert to 2D color scale and flatten\n",
    "\n",
    "## Convert to 1 color bin\n",
    "Now, parse through the arrays and convert the 3 bins used for colors to 1 bin. \n",
    "\n",
    "## Flatten to a 2D array \n",
    "We want to use a linear classifier, so convert the 2D images to a 1 dimentional array/ "
   ]
  },
  {
   "cell_type": "code",
   "execution_count": 11,
   "metadata": {},
   "outputs": [],
   "source": [
    "train_photos = list()\n",
    "test_photos = list()\n",
    "\n",
    "\n",
    "\n",
    "#Train data conversion\n",
    "\n",
    "\n",
    "\n",
    "for i in range (len(y) - 1):\n",
    "    #convert to grayscale\n",
    "    \n",
    "    photo = cv2.cvtColor(x[i], cv2.COLOR_BGR2GRAY)\n",
    "    #flatten \n",
    "    flat = photo.reshape(-1)\n",
    "    #Add to new list\n",
    "    train_photos.append(flat)\n",
    "    \n",
    "#Test data conversion\n",
    "    \n",
    "for i in range(len(Y) - 1):\n",
    "    \n",
    "    #convert to grayscale\n",
    "    photo = cv2.cvtColor(X[i], cv2.COLOR_BGR2GRAY)\n",
    "    #flatten \n",
    "    flat = photo.reshape(-1)\n",
    "    #Add to new list\n",
    "    test_photos.append(flat)\n",
    "\n",
    "\n",
    "    \n",
    "#Convert lists to arrays \n",
    "\n",
    "test_photos = np.asarray(test_photos, dtype=np.float32)\n",
    "train_photos = np.asarray(train_photos, dtype=np.float32)\n",
    "\n",
    "train_labels = y\n",
    "\n",
    "test_labels = Y\n",
    "\n",
    "\n",
    "\n",
    "\n",
    "\n"
   ]
  },
  {
   "cell_type": "markdown",
   "metadata": {},
   "source": [
    "# 7) Make the model \n",
    "\n",
    "## Error minimization using gradient descent \n",
    "\n",
    "<img src=\"https://blog.paperspace.com/content/images/2018/05/fastlr.png\" style=\"height:450px\">\n",
    "\n",
    "Here we will be using a process using gradient descent to minimize the error. This is done by changing the values of the weights as the function trains and updating them during each epoch. \n",
    "\n",
    "\n"
   ]
  },
  {
   "cell_type": "code",
   "execution_count": 12,
   "metadata": {},
   "outputs": [],
   "source": [
    "# Make a prediction with weights\n",
    "\n",
    "import sys \n",
    "def Error(train, weights, pixel, bias):\n",
    "\n",
    "    sum = 0.0;\n",
    "    for j in range (len(train) - 1):\n",
    "        sum += train[j] * weights[j]\n",
    "        sum += bias\n",
    "      \n",
    "    return 0.5 * (sum - pixel) * (sum - pixel)\n",
    "\n",
    "\n",
    "def TotalError(train,  weights, train_labels, bias):\n",
    "\n",
    "    totErr = 0.0\n",
    "    for i in range (len(train) - 1):\n",
    "        totErr += Error(train[i], weights, train_labels[i], bias)\n",
    "    return totErr;\n"
   ]
  },
  {
   "cell_type": "markdown",
   "metadata": {},
   "source": [
    "# The Activation Function\n",
    "\n",
    "<img src=\"https://upload.wikimedia.org/wikipedia/commons/thumb/d/d9/Dirac_distribution_CDF.svg/800px-Dirac_distribution_CDF.svg.png\n",
    "\" style=\"height:450px\">\n",
    "\n",
    "\n",
    "The activation function in the perceptron algorithm is a Heave-side step function. If the value of the sum of the  weights is negative, the prediction will return 0, meaning the model \"thinks\" the animal is a bird. If the value of the weights is negative, the function will return 1, meaning that the model \"thinks\" the animal is a fish. \n"
   ]
  },
  {
   "cell_type": "code",
   "execution_count": 13,
   "metadata": {},
   "outputs": [],
   "source": [
    "\n",
    "def predict(row, weights, bias):\n",
    "\n",
    "    activation = weights[0]\n",
    "    for i in range(len(row)-1):\n",
    "        activation += weights[i + 1] * row[i]\n",
    "        activation += bias\n",
    "    return 1.0 if activation >= 0.0 else 0.0\n",
    "\n"
   ]
  },
  {
   "cell_type": "markdown",
   "metadata": {},
   "source": [
    "# Working with Weights\n",
    "\n",
    "- Now we want to change the value of the weights based on the error. We update the weights when we get a mismatch between what the model predicts and what the true class labels are \n",
    "- The bias is another addition to the model. Think of it as a y intercept in our linear prediction. "
   ]
  },
  {
   "cell_type": "code",
   "execution_count": 14,
   "metadata": {},
   "outputs": [],
   "source": [
    "# Estimate Perceptron weights using stochastic gradient descent\n",
    "def train_weights(train, train_labels, l_rate, n_epoch, bias):\n",
    "    f = 0\n",
    "    numWeights = len(train[0])\n",
    "    bestBias = 0.0;\n",
    "    bias = 0.01;\n",
    "    smallest_error_so_far = sys.maxsize\n",
    "    weights = [0.0 for i in range(len(train[0]))]\n",
    "    best_weights = [0.0 for i in range(len(train[0]))]\n",
    "    \n",
    "    for epoch in range(n_epoch):\n",
    "        sum_error = 0.0\n",
    "        for row in train:\n",
    "            prediction = predict(row, weights, bias)\n",
    "            desired = train_labels[f]\n",
    "            delta = desired - prediction\n",
    "            if prediction != desired: \n",
    "                for j in range (numWeights - 1):\n",
    "                    weights[j] = weights[j] +  (l_rate * delta * train[f][j])\n",
    "                    \n",
    "                bias = bias + (l_rate * delta)\n",
    "          \n",
    "             \n",
    "                totalError = TotalError(train, weights, train_labels, bias)\n",
    "          \n",
    "            \n",
    "                if totalError < smallest_error_so_far:\n",
    "                    smallest_error_so_far = totalError\n",
    "                    best_weights = weights\n",
    "                    bestBias = bias\n",
    "        f += 1\n",
    "              \n",
    "               \n",
    "        print('>epoch=%d, lrate=%.3f, error=%.3f' % (epoch, l_rate, smallest_error_so_far))\n",
    "    return best_weights\n",
    "            \n",
    "                \n",
    "    "
   ]
  },
  {
   "cell_type": "markdown",
   "metadata": {},
   "source": [
    "# 8) The Perceptron Algorithm "
   ]
  },
  {
   "cell_type": "code",
   "execution_count": 15,
   "metadata": {},
   "outputs": [],
   "source": [
    "# Perceptron Algorithm With Stochastic Gradient Descent\n",
    "\n",
    "\n",
    "def perceptron(train, train_labels, test,test_labels, l_rate, n_epoch, bias):\n",
    "\tpredictions = list()\n",
    "\tweights = train_weights(train, train_labels, l_rate, n_epoch, bias)\n",
    "\tfor row in test:\n",
    "\t\tprediction = predict(row, weights, bias)\n",
    "\t\tpredictions.append(prediction)\n",
    "\treturn(predictions)\n",
    "\n"
   ]
  },
  {
   "cell_type": "markdown",
   "metadata": {},
   "source": [
    "# 9) Find the Accuracy of the model"
   ]
  },
  {
   "cell_type": "code",
   "execution_count": 16,
   "metadata": {},
   "outputs": [
    {
     "name": "stdout",
     "output_type": "stream",
     "text": [
      ">epoch=0, lrate=0.100, error=9223372036854775808.000\n",
      ">epoch=1, lrate=0.100, error=284253641.166\n",
      ">epoch=2, lrate=0.100, error=5940305.596\n",
      ">epoch=3, lrate=0.100, error=5940305.596\n",
      ">epoch=4, lrate=0.100, error=5940305.596\n",
      ">epoch=5, lrate=0.100, error=5940305.596\n",
      ">epoch=6, lrate=0.100, error=5940305.596\n",
      ">epoch=7, lrate=0.100, error=5940305.596\n",
      ">epoch=8, lrate=0.100, error=5940305.596\n",
      ">epoch=9, lrate=0.100, error=5940305.596\n",
      ">epoch=10, lrate=0.100, error=5940305.596\n",
      ">epoch=11, lrate=0.100, error=5940305.596\n",
      ">epoch=12, lrate=0.100, error=5940305.596\n",
      ">epoch=13, lrate=0.100, error=5940305.596\n",
      ">epoch=14, lrate=0.100, error=5940305.596\n",
      ">epoch=15, lrate=0.100, error=5940305.596\n",
      ">epoch=16, lrate=0.100, error=5940305.596\n",
      ">epoch=17, lrate=0.100, error=5940305.596\n",
      ">epoch=18, lrate=0.100, error=5940305.596\n",
      ">epoch=19, lrate=0.100, error=5940305.596\n",
      "92.3076923076923\n"
     ]
    }
   ],
   "source": [
    "\n",
    "bias = 0.01\n",
    "n_epoch = 20\n",
    "l_rate = 0.1\n",
    "def accuracy_metric(actual, predicted):\n",
    "    correct = 0\n",
    "    for i in range(len(actual) - 1):\n",
    "        if actual[i] == predicted[i]:\n",
    "            correct += 1\n",
    "    return correct / float(len(actual)) * 100.0\n",
    "\n",
    "\n",
    "predictions = perceptron(train_photos, train_labels, test_photos, test_labels, l_rate, n_epoch, bias)\n",
    "\n",
    "print(accuracy_metric(test_labels, predictions))\n",
    "\n"
   ]
  },
  {
   "cell_type": "markdown",
   "metadata": {},
   "source": [
    "# 10) Let's plot the pictures with the predicted and actual class"
   ]
  },
  {
   "cell_type": "code",
   "execution_count": 26,
   "metadata": {},
   "outputs": [],
   "source": [
    "\n",
    "def plot_image(i , predictions, true_label, img) : \n",
    "    prediction, true_label, img = predictions[i], int(true_label[i]), img[i]\n",
    "    plt.grid(False)\n",
    "    plt.xticks([])\n",
    "    plt.yticks([])\n",
    "    \n",
    "    plt.imshow(img, cmap=plt.cm.binary)\n",
    "    \n",
    "    predicted_label = int(prediction)\n",
    "    if predicted_label == true_label: \n",
    "        color = 'blue'\n",
    "    else : \n",
    "        color = 'red'\n",
    "\n",
    "    plt.xlabel(\"{} ({})\".format(class_names[predicted_label],\n",
    "                                class_names[int(true_label)]),\n",
    "                                color=color)\n",
    "\n",
    "        "
   ]
  },
  {
   "cell_type": "code",
   "execution_count": 26,
   "metadata": {},
   "outputs": [
    {
     "data": {
      "image/png": "[encoded data removed]",
      "text/plain": [
       "<Figure size 432x216 with 1 Axes>"
      ]
     },
     "metadata": {},
     "output_type": "display_data"
    }
   ],
   "source": [
    "#Now lets look at the 3rd image \n",
    "i = 2\n",
    "plt.figure(figsize = (6,3))\n",
    "plt.subplot(1,2,1)\n",
    "plot_image(i , predictions, Y, X)\n",
    "\n",
    "\n"
   ]
  },
  {
   "cell_type": "code",
   "execution_count": 30,
   "metadata": {},
   "outputs": [
    {
     "data": {
      "image/png": "[encoded data removed]",
      "text/plain": [
       "<Figure size 432x216 with 1 Axes>"
      ]
     },
     "metadata": {},
     "output_type": "display_data"
    }
   ],
   "source": [
    "#Now lets look at the 12th image \n",
    "i = 6\n",
    "plt.figure(figsize = (6,3))\n",
    "plt.subplot(1,2,1)\n",
    "plot_image(i , predictions, Y, X)"
   ]
  },
  {
   "cell_type": "code",
   "execution_count": 31,
   "metadata": {},
   "outputs": [
    {
     "data": {
      "image/png": "[encoded data removed]",
      "text/plain": [
       "<Figure size 864x1440 with 30 Axes>"
      ]
     },
     "metadata": {},
     "output_type": "display_data"
    }
   ],
   "source": [
    "#Now let's plot several images with their predictions \n",
    "#Correct predictions are in blue. Incorrect predictions are in red.\n",
    "\n",
    "num_rows = 10\n",
    "num_cols = 3\n",
    "num_images = num_rows*num_cols\n",
    "plt.figure(figsize=(2*2*num_cols, 2*num_rows))\n",
    "for i in range(num_images) :\n",
    "    plt.subplot(num_rows, 2*num_cols, 2*i+1)\n",
    "    plot_image(i, predictions, Y, X)\n",
    "plt.tight_layout()\n",
    "plt.show()\n",
    "\n"
   ]
  },
  {
   "cell_type": "markdown",
   "metadata": {},
   "source": [
    "# Now It's Your Turn!\n",
    "\n",
    "Change your learning rate and see how that affects the model's accuracy\n"
   ]
  },
  {
   "cell_type": "markdown",
   "metadata": {},
   "source": [
    "# Change the image sources. \n",
    "\n",
    "You can download a variety of images from 'https://archive.ics.uci.edu/ml/datasets.php' and modify the direcotory names and classification array names such that you can work with other data sets"
   ]
  },
  {
   "cell_type": "code",
   "execution_count": 32,
   "metadata": {
    "scrolled": true
   },
   "outputs": [],
   "source": [
    "# Modify this code:\n",
    "\n",
    "\n",
    "\n",
    "        \n",
    "# create directories\n",
    "dataset_home = 'Downloads/Lab4SolutionsDataSetValidation/'\n",
    "subdirs = ['train/', 'test/']\n",
    "for subdir in subdirs:\n",
    "    # create label subdirectories\n",
    "    labeldirs = ['television/', 'teddy/']\n",
    "    for labldir in labeldirs:\n",
    "        newdir = dataset_home + subdir + labldir\n",
    "        makedirs(newdir, exist_ok=True)\n",
    "        \n",
    "        \n",
    "\n",
    "        \n",
    "# seed random number generator\n",
    "seed(1)\n",
    "# define ratio of pictures to use for validation\n",
    "val_ratio = 0.25\n",
    "# copy training dataset images into subdirectories\n",
    "src_directory = r\"Desktop/UM Deep Learning Tutorials/Lab4SolutionsData\"\n",
    "for file in listdir(src_directory):\n",
    "    src = src_directory  + '/' + file\n",
    "\n",
    "    dst_dir = 'train/'\n",
    "    if random() < val_ratio:\n",
    "        dst_dir = 'test/'\n",
    "    if file.startswith('television'):\n",
    "        dst = dataset_home + dst_dir + 'television/'  + file\n",
    "        copyfile(src, dst)\n",
    "    elif file.startswith('teddy'):\n",
    "        dst = dataset_home + dst_dir + 'teddy/'  + file\n",
    "        copyfile(src, dst)\n",
    "        \n",
    "        \n",
    "class_names = ['teddy', 'television']"
   ]
  },
  {
   "cell_type": "markdown",
   "metadata": {},
   "source": [
    "# Convert to directories and flatten\n",
    "\n"
   ]
  },
  {
   "cell_type": "code",
   "execution_count": 41,
   "metadata": {},
   "outputs": [
    {
     "name": "stdout",
     "output_type": "stream",
     "text": [
      "Found 105 images belonging to 2 classes.\n",
      "Found 39 images belonging to 2 classes.\n"
     ]
    }
   ],
   "source": [
    "#Modify the batch size here\n",
    "batch_size = 39  \n",
    "\n",
    "datagen = ImageDataGenerator(rescale= 1/255)\n",
    "\n",
    "#training directory iterator\n",
    "train_it = datagen.flow_from_directory('Downloads/Lab4SolutionsDataSetValidation/train/',\n",
    "\tclass_mode='binary', batch_size = batch_size , target_size=(200, 200))\n",
    "\n",
    "\n",
    "\n",
    "#testing directory iterator\n",
    "test_it = datagen.flow_from_directory('Downloads/Lab4SolutionsDataSetValidation/test/',\n",
    "\tclass_mode='binary', batch_size= batch_size, target_size=(200, 200))\n",
    "\n",
    "#Convert to arrays\n",
    "x, y = train_it.next()\n",
    "X, Y = test_it.next()\n",
    "\n",
    "train_photos = list()\n",
    "test_photos = list()\n",
    "\n",
    "\n",
    "\n",
    "#Train data conversion\n",
    "\n",
    "\n",
    "\n",
    "for i in range (len(y) - 1):\n",
    "    #convert to grayscale\n",
    "    \n",
    "    photo = cv2.cvtColor(x[i], cv2.COLOR_BGR2GRAY)\n",
    "    #flatten \n",
    "    flat = photo.reshape(-1)\n",
    "    #Add to new list\n",
    "    train_photos.append(flat)\n",
    "    \n",
    "#Test data conversion\n",
    "    \n",
    "for i in range(len(Y) - 1):\n",
    "    \n",
    "    #convert to grayscale\n",
    "    photo = cv2.cvtColor(X[i], cv2.COLOR_BGR2GRAY)\n",
    "    #flatten \n",
    "    flat = photo.reshape(-1)\n",
    "    #Add to new list\n",
    "    test_photos.append(flat)\n",
    "\n",
    "\n",
    "    \n",
    "#Convert lists to arrays \n",
    "\n",
    "test_photos = np.asarray(test_photos, dtype=np.float32)\n",
    "train_photos = np.asarray(train_photos, dtype=np.float32)\n",
    "\n",
    "train_labels = y\n",
    "\n",
    "test_labels = Y\n"
   ]
  },
  {
   "cell_type": "markdown",
   "metadata": {},
   "source": [
    "# Change the bias and learning rate of the model to see how that affects training accuracy\n"
   ]
  },
  {
   "cell_type": "code",
   "execution_count": 44,
   "metadata": {},
   "outputs": [
    {
     "name": "stdout",
     "output_type": "stream",
     "text": [
      ">epoch=0, lrate=0.010, error=223982.958\n",
      ">epoch=1, lrate=0.010, error=223982.958\n",
      ">epoch=2, lrate=0.010, error=223982.958\n",
      ">epoch=3, lrate=0.010, error=223982.958\n",
      ">epoch=4, lrate=0.010, error=223982.958\n",
      "61.53846153846154\n"
     ]
    }
   ],
   "source": [
    "# PLay around with these and see how they affect training accuracy and the model's computing sped \n",
    "\n",
    "bias = 0.001\n",
    "n_epoch = 5\n",
    "l_rate = 0.01\n",
    "\n",
    "predictions1 = perceptron(train_photos, train_labels, test_photos, test_labels, l_rate, n_epoch, bias)\n",
    "\n",
    "print(accuracy_metric(test_labels, predictions1))"
   ]
  },
  {
   "cell_type": "code",
   "execution_count": 45,
   "metadata": {},
   "outputs": [
    {
     "name": "stdout",
     "output_type": "stream",
     "text": [
      ">epoch=0, lrate=0.010, error=223982.958\n",
      ">epoch=1, lrate=0.010, error=223982.958\n",
      ">epoch=2, lrate=0.010, error=223982.958\n",
      ">epoch=3, lrate=0.010, error=223982.958\n",
      ">epoch=4, lrate=0.010, error=223982.958\n",
      ">epoch=5, lrate=0.010, error=223982.958\n",
      ">epoch=6, lrate=0.010, error=223982.958\n",
      ">epoch=7, lrate=0.010, error=223982.958\n",
      ">epoch=8, lrate=0.010, error=223982.958\n",
      ">epoch=9, lrate=0.010, error=223982.958\n",
      ">epoch=10, lrate=0.010, error=223982.958\n",
      ">epoch=11, lrate=0.010, error=223982.958\n",
      ">epoch=12, lrate=0.010, error=223982.958\n",
      ">epoch=13, lrate=0.010, error=223982.958\n",
      ">epoch=14, lrate=0.010, error=223982.958\n",
      "97.43589743589743\n"
     ]
    }
   ],
   "source": [
    "bias = 0.001\n",
    "n_epoch = 15\n",
    "l_rate = 0.01\n",
    "\n",
    "predictions2 = perceptron(train_photos, train_labels, test_photos, test_labels, l_rate, n_epoch, bias)\n",
    "\n",
    "print(accuracy_metric(test_labels, predictions2))"
   ]
  },
  {
   "cell_type": "code",
   "execution_count": 46,
   "metadata": {},
   "outputs": [
    {
     "name": "stdout",
     "output_type": "stream",
     "text": [
      ">epoch=0, lrate=0.010, error=223982.958\n",
      ">epoch=1, lrate=0.010, error=223982.958\n",
      ">epoch=2, lrate=0.010, error=223982.958\n",
      ">epoch=3, lrate=0.010, error=223982.958\n",
      ">epoch=4, lrate=0.010, error=223982.958\n",
      "48.717948717948715\n"
     ]
    }
   ],
   "source": [
    "bias = 0.01\n",
    "n_epoch = 5\n",
    "l_rate = 0.01\n",
    "\n",
    "predictions3 = perceptron(train_photos, train_labels, test_photos, test_labels, l_rate, n_epoch, bias)\n",
    "\n",
    "print(accuracy_metric(test_labels, predictions3))"
   ]
  },
  {
   "cell_type": "code",
   "execution_count": 47,
   "metadata": {},
   "outputs": [
    {
     "name": "stdout",
     "output_type": "stream",
     "text": [
      ">epoch=0, lrate=0.100, error=401243797.410\n",
      ">epoch=1, lrate=0.100, error=3331501.776\n",
      ">epoch=2, lrate=0.100, error=3331501.776\n",
      ">epoch=3, lrate=0.100, error=3331501.776\n",
      ">epoch=4, lrate=0.100, error=3331501.776\n",
      ">epoch=5, lrate=0.100, error=3331501.776\n",
      ">epoch=6, lrate=0.100, error=3331501.776\n",
      ">epoch=7, lrate=0.100, error=3331501.776\n",
      ">epoch=8, lrate=0.100, error=3331501.776\n",
      ">epoch=9, lrate=0.100, error=3331501.776\n",
      ">epoch=10, lrate=0.100, error=3331501.776\n",
      ">epoch=11, lrate=0.100, error=3331501.776\n",
      ">epoch=12, lrate=0.100, error=3331501.776\n",
      ">epoch=13, lrate=0.100, error=3331501.776\n",
      ">epoch=14, lrate=0.100, error=3331501.776\n",
      ">epoch=15, lrate=0.100, error=3331501.776\n",
      ">epoch=16, lrate=0.100, error=3331501.776\n",
      ">epoch=17, lrate=0.100, error=3331501.776\n",
      ">epoch=18, lrate=0.100, error=3331501.776\n",
      ">epoch=19, lrate=0.100, error=3331501.776\n",
      "97.43589743589743\n"
     ]
    }
   ],
   "source": [
    "bias = 0.01\n",
    "n_epoch = 20\n",
    "l_rate = 0.1\n",
    "\n",
    "predictions4 = perceptron(train_photos, train_labels, test_photos, test_labels, l_rate, n_epoch, bias)\n",
    "\n",
    "print(accuracy_metric(test_labels, predictions4))"
   ]
  },
  {
   "cell_type": "markdown",
   "metadata": {},
   "source": [
    "# Plot images to get a visual representation"
   ]
  },
  {
   "cell_type": "code",
   "execution_count": 48,
   "metadata": {},
   "outputs": [
    {
     "data": {
      "image/png": "[encoded data removed]",
      "text/plain": [
       "<Figure size 864x720 with 15 Axes>"
      ]
     },
     "metadata": {},
     "output_type": "display_data"
    }
   ],
   "source": [
    "# Use the plot function above to plot the images and their predicted class, along with the accurate class. \n",
    "\n",
    "num_rows = 5\n",
    "num_cols = 3\n",
    "num_images = num_rows*num_cols\n",
    "plt.figure(figsize=(2*2*num_cols, 2*num_rows))\n",
    "for i in range(num_images) :\n",
    "    plt.subplot(num_rows, 2*num_cols, 2*i+1)\n",
    "    plot_image(i, predictions1, Y, X)\n",
    "plt.tight_layout()\n",
    "plt.show()\n"
   ]
  },
  {
   "cell_type": "code",
   "execution_count": 49,
   "metadata": {},
   "outputs": [
    {
     "data": {
      "image/png": "[encoded data removed]",
      "text/plain": [
       "<Figure size 432x288 with 15 Axes>"
      ]
     },
     "metadata": {},
     "output_type": "display_data"
    }
   ],
   "source": [
    "for i in range(num_images) :\n",
    "    plt.subplot(num_rows, 2*num_cols, 2*i+1)\n",
    "    plot_image(i, predictions2, Y, X)\n",
    "plt.tight_layout()\n",
    "plt.show()\n"
   ]
  },
  {
   "cell_type": "code",
   "execution_count": 50,
   "metadata": {},
   "outputs": [
    {
     "data": {
      "image/png": "[encoded data removed]",
      "text/plain": [
       "<Figure size 432x288 with 15 Axes>"
      ]
     },
     "metadata": {},
     "output_type": "display_data"
    }
   ],
   "source": [
    "for i in range(num_images) :\n",
    "    plt.subplot(num_rows, 2*num_cols, 2*i+1)\n",
    "    plot_image(i, predictions3, Y, X)\n",
    "plt.tight_layout()\n",
    "plt.show()\n"
   ]
  },
  {
   "cell_type": "code",
   "execution_count": 51,
   "metadata": {
    "scrolled": true
   },
   "outputs": [
    {
     "data": {
      "image/png": "[encoded data removed]",
      "text/plain": [
       "<Figure size 432x288 with 15 Axes>"
      ]
     },
     "metadata": {},
     "output_type": "display_data"
    }
   ],
   "source": [
    "for i in range(num_images) :\n",
    "    plt.subplot(num_rows, 2*num_cols, 2*i+1)\n",
    "    plot_image(i, predictions4, Y, X)\n",
    "plt.tight_layout()\n",
    "plt.show()\n"
   ]
  },
  {
   "cell_type": "code",
   "execution_count": null,
   "metadata": {},
   "outputs": [],
   "source": []
  }
 ],
 "metadata": {
  "kernelspec": {
   "display_name": "tf_gpu",
   "language": "python",
   "name": "tf_gpu"
  },
  "language_info": {
   "codemirror_mode": {
    "name": "ipython",
    "version": 3
   },
   "file_extension": ".py",
   "mimetype": "text/x-python",
   "name": "python",
   "nbconvert_exporter": "python",
   "pygments_lexer": "ipython3",
   "version": "3.7.5"
  }
 },
 "nbformat": 4,
 "nbformat_minor": 4
}
