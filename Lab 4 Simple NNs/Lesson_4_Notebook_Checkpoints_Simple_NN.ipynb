{
 "cells": [
  {
   "cell_type": "markdown",
   "metadata": {},
   "source": [
    "# Simple Neural Network \n",
    "\n",
    "In today's lesson we will expand on the simple perceptron neural network to more advanced neural networks. \n",
    "\n",
    "These neural networks will work with different activation functions besides the simple heaveside activation function. \n",
    "\n",
    "\n",
    "## We will be working to train a network to identify handwritten numbers \n",
    "\n",
    "<img src=\"https://i0.wp.com/syncedreview.com/wp-content/uploads/2019/06/MNIST.png\" style=\"height:450px\">"
   ]
  },
  {
   "cell_type": "markdown",
   "metadata": {},
   "source": [
    "# 1) Packages \n",
    "\n",
    "\n",
    "Let's first import all of the packages we need for this assignment. \n",
    "\n",
    "- [tensorflow](https://www.tensorflow.org/) is what we will use to build our neural networks \n",
    "\n",
    "- [matplotlib](https://matplotlib.org/) helps to plot data and visualize the data\n",
    "\n",
    "- [numpy](https://numpy.org/) helps us make our training and test set arrays\n",
    "\n",
    "- [keras](https://keras.io/) helps us to make our neural networks \n",
    "\n"
   ]
  },
  {
   "cell_type": "code",
   "execution_count": 3,
   "metadata": {},
   "outputs": [
    {
     "name": "stdout",
     "output_type": "stream",
     "text": [
      "1.15.0\n",
      "Device mapping:\n",
      "\n"
     ]
    }
   ],
   "source": [
    "#Author: Leila Abdelrahman \n",
    "#Adapted from the Classify Images of Clothing Website by François Chollet, 2017, MIT\n",
    "\n",
    "from __future__ import absolute_import, division, print_function, unicode_literals\n",
    "# -*- coding: utf-8 -*-\n",
    "\n",
    "\n",
    "\n",
    "\n",
    "#Import TensorFlow and Keras\n",
    "import tensorflow as tf\n",
    "from tensorflow import keras\n",
    "\n",
    "#Helper libraries\n",
    "import numpy as np\n",
    "import matplotlib.pyplot as plt\n",
    "\n",
    "print(tf.__version__)\n",
    "\n",
    "sess = tf.Session(config=tf.ConfigProto(log_device_placement=True))\n",
    "\n",
    "\n",
    "\n",
    "\n"
   ]
  },
  {
   "cell_type": "markdown",
   "metadata": {},
   "source": [
    "# Import the MNIST dataset "
   ]
  },
  {
   "cell_type": "code",
   "execution_count": 4,
   "metadata": {},
   "outputs": [],
   "source": [
    "\n",
    "\n",
    "mnist = keras.datasets.mnist\n",
    "(train_images, train_labels), (test_images, test_labels) = mnist.load_data()\n",
    "\n",
    "#Loading the dataset should return 4 NumPy arrays\n",
    "\n",
    "#Next, add class name labels, as these are not included with the datast. Stoer them in an\n",
    "#array for later as we plot the images\n",
    "class_names =  ['0', '1', '2' , '3', '4', '5', '6', '7', '8', \n",
    "               '9']"
   ]
  },
  {
   "cell_type": "markdown",
   "metadata": {},
   "source": [
    "# Look at dataset parameter"
   ]
  },
  {
   "cell_type": "code",
   "execution_count": 5,
   "metadata": {},
   "outputs": [
    {
     "name": "stdout",
     "output_type": "stream",
     "text": [
      "(60000, 28, 28)\n"
     ]
    }
   ],
   "source": [
    "#Look at the parameters of the dataset\n",
    "\n",
    "#The data set contains 60,000 images in the training set, each represented as 28*28 poxels\n",
    "print(train_images.shape)\n",
    "\n",
    "\n",
    "\n"
   ]
  },
  {
   "cell_type": "code",
   "execution_count": 6,
   "metadata": {},
   "outputs": [
    {
     "data": {
      "text/plain": [
       "60000"
      ]
     },
     "execution_count": 6,
     "metadata": {},
     "output_type": "execute_result"
    }
   ],
   "source": [
    "#There are 60,000 traning labels \n",
    "len(train_labels)"
   ]
  },
  {
   "cell_type": "code",
   "execution_count": 7,
   "metadata": {},
   "outputs": [
    {
     "name": "stdout",
     "output_type": "stream",
     "text": [
      "[5 0 4 ... 5 6 8]\n"
     ]
    }
   ],
   "source": [
    "#Each label has an integer between 0 and 9;\n",
    "print(train_labels)\n"
   ]
  },
  {
   "cell_type": "code",
   "execution_count": 8,
   "metadata": {},
   "outputs": [
    {
     "name": "stdout",
     "output_type": "stream",
     "text": [
      "(10000, 28, 28)\n"
     ]
    }
   ],
   "source": [
    "#Thee are 10,000 images in the test set, each 28*28 pixels\n",
    "print(test_images.shape)"
   ]
  },
  {
   "cell_type": "markdown",
   "metadata": {},
   "source": [
    "# Data before normalization"
   ]
  },
  {
   "cell_type": "code",
   "execution_count": 9,
   "metadata": {},
   "outputs": [
    {
     "data": {
      "image/png": "[encoded data removed]",
      "text/plain": [
       "<Figure size 432x288 with 2 Axes>"
      ]
     },
     "metadata": {
      "needs_background": "light"
     },
     "output_type": "display_data"
    }
   ],
   "source": [
    "#Preprocess the data so that we can normalize the pixel values between a range of 0 and 1. \n",
    "#Normalization helps with training accuracy \n",
    "plt.figure()\n",
    "plt.imshow(train_images[0])\n",
    "plt.colorbar()\n",
    "plt.grid(False)\n",
    "plt.show()"
   ]
  },
  {
   "cell_type": "markdown",
   "metadata": {},
   "source": [
    "# Normalize the data by dividing by largest pixel value "
   ]
  },
  {
   "cell_type": "code",
   "execution_count": 10,
   "metadata": {},
   "outputs": [],
   "source": [
    "#We now want to scale the values. Do this by dividing by 255, hwhich is the largest pixel value \n",
    "\n",
    "train_images = train_images/255.0\n",
    "test_images = test_images/255.0\n"
   ]
  },
  {
   "cell_type": "markdown",
   "metadata": {},
   "source": [
    "# Look at new normalized pictures"
   ]
  },
  {
   "cell_type": "code",
   "execution_count": 11,
   "metadata": {},
   "outputs": [
    {
     "data": {
      "image/png": "[encoded data removed]",
      "text/plain": [
       "<Figure size 432x288 with 25 Axes>"
      ]
     },
     "metadata": {},
     "output_type": "display_data"
    }
   ],
   "source": [
    "#Verify that the data is in the correct format and that it is standardized \n",
    "\n",
    "for i in range (25):\n",
    "    plt.rcParams.update({'font.size': 10})\n",
    "    plt.subplot(5,5,i+1)\n",
    "    plt.xticks([])\n",
    "    plt.yticks([])\n",
    "    plt.grid(False)\n",
    "    plt.imshow(train_images[i], cmap = plt.cm.binary)\n",
    "    plt.xlabel(class_names[train_labels[i]])\n",
    "\n",
    "plt.show()"
   ]
  },
  {
   "cell_type": "markdown",
   "metadata": {},
   "source": [
    "# Build the model. \n",
    "\n",
    "## Every neural network is composed of layers. Each layer repreents extracting  representations from the data fed into them. \n",
    "\n",
    "- This neural network has 3 layers. \n",
    "- The first layer (Flatten), transforms the image data from a 2d array to a 1d array\n",
    "- The second layer is a Dense function (a densly connected neural layer, which as 128 nodes, or neurons) \n",
    "- The last layer has 10 nodes, and uses the softmax activation function. \n",
    "\n",
    "Softmax activation functions return probability scores  tht sum to 1. MAKE SURE THE NUMBER OF NODES IN THE LAST LAYER IS EQUAL TO THE NUMBER OF CLASSES. "
   ]
  },
  {
   "cell_type": "code",
   "execution_count": 12,
   "metadata": {},
   "outputs": [
    {
     "name": "stdout",
     "output_type": "stream",
     "text": [
      "WARNING:tensorflow:From C:\\Users\\coder\\Anaconda3\\envs\\TensorFlow\\lib\\site-packages\\tensorflow_core\\python\\ops\\resource_variable_ops.py:1630: calling BaseResourceVariable.__init__ (from tensorflow.python.ops.resource_variable_ops) with constraint is deprecated and will be removed in a future version.\n",
      "Instructions for updating:\n",
      "If using Keras pass *_constraint arguments to layers.\n"
     ]
    },
    {
     "name": "stderr",
     "output_type": "stream",
     "text": [
      "WARNING:tensorflow:From C:\\Users\\coder\\Anaconda3\\envs\\TensorFlow\\lib\\site-packages\\tensorflow_core\\python\\ops\\resource_variable_ops.py:1630: calling BaseResourceVariable.__init__ (from tensorflow.python.ops.resource_variable_ops) with constraint is deprecated and will be removed in a future version.\n",
      "Instructions for updating:\n",
      "If using Keras pass *_constraint arguments to layers.\n"
     ]
    }
   ],
   "source": [
    "\n",
    "\n",
    "model = keras.Sequential([\n",
    "    keras.layers.Flatten(input_shape = (28,28)) ,\n",
    "    keras.layers.Dense(128, activation = 'relu'),\n",
    "    keras.layers.Dense(10, activation = 'softmax')\n",
    "])\n",
    "\n"
   ]
  },
  {
   "cell_type": "markdown",
   "metadata": {},
   "source": [
    "## Let's look at the anatomy of the model. This outlines what each layer is, and how many parameters (arguments) there are. "
   ]
  },
  {
   "cell_type": "code",
   "execution_count": 13,
   "metadata": {},
   "outputs": [
    {
     "name": "stdout",
     "output_type": "stream",
     "text": [
      "Model: \"sequential\"\n",
      "_________________________________________________________________\n",
      "Layer (type)                 Output Shape              Param #   \n",
      "=================================================================\n",
      "flatten (Flatten)            (None, 784)               0         \n",
      "_________________________________________________________________\n",
      "dense (Dense)                (None, 128)               100480    \n",
      "_________________________________________________________________\n",
      "dense_1 (Dense)              (None, 10)                1290      \n",
      "=================================================================\n",
      "Total params: 101,770\n",
      "Trainable params: 101,770\n",
      "Non-trainable params: 0\n",
      "_________________________________________________________________\n",
      "None\n"
     ]
    }
   ],
   "source": [
    "\n",
    "\n",
    "print(model.summary())\n",
    "\n"
   ]
  },
  {
   "cell_type": "markdown",
   "metadata": {},
   "source": [
    "## Now let's look at the weight array, as well as the biases\n",
    "\n",
    "- A weight is used to ascribe importance to each node. The higher the node, the more 'imporant' it is in the network \n",
    "\n",
    "- A bias is like the intercept added to a linear equation. It adds and additional parameter. The default is that the bias is 0. \n",
    "\n",
    "- For the weights and biases, you will see the weights and biases for the first layer and the last layer of the network \n",
    "\n",
    "- Weights are normalized from -1 to 1. "
   ]
  },
  {
   "cell_type": "code",
   "execution_count": 14,
   "metadata": {},
   "outputs": [
    {
     "name": "stdout",
     "output_type": "stream",
     "text": [
      "[array([[ 0.05862226,  0.05439245, -0.06823616, ..., -0.00067226,\n",
      "         0.00814962,  0.05306532],\n",
      "       [-0.0788167 , -0.04290105,  0.07634839, ...,  0.07309855,\n",
      "         0.03719987, -0.03447789],\n",
      "       [ 0.00658854,  0.07685014, -0.03402682, ..., -0.05293852,\n",
      "         0.01014719,  0.02989452],\n",
      "       ...,\n",
      "       [-0.00936144,  0.04284317,  0.07502908, ..., -0.00403795,\n",
      "         0.05942462, -0.02038234],\n",
      "       [ 0.05614058, -0.02771735, -0.06578773, ...,  0.00561351,\n",
      "        -0.0474937 ,  0.01857032],\n",
      "       [ 0.01892995,  0.00148522,  0.06771729, ...,  0.06086548,\n",
      "         0.01782785,  0.04673313]], dtype=float32), array([0., 0., 0., 0., 0., 0., 0., 0., 0., 0., 0., 0., 0., 0., 0., 0., 0.,\n",
      "       0., 0., 0., 0., 0., 0., 0., 0., 0., 0., 0., 0., 0., 0., 0., 0., 0.,\n",
      "       0., 0., 0., 0., 0., 0., 0., 0., 0., 0., 0., 0., 0., 0., 0., 0., 0.,\n",
      "       0., 0., 0., 0., 0., 0., 0., 0., 0., 0., 0., 0., 0., 0., 0., 0., 0.,\n",
      "       0., 0., 0., 0., 0., 0., 0., 0., 0., 0., 0., 0., 0., 0., 0., 0., 0.,\n",
      "       0., 0., 0., 0., 0., 0., 0., 0., 0., 0., 0., 0., 0., 0., 0., 0., 0.,\n",
      "       0., 0., 0., 0., 0., 0., 0., 0., 0., 0., 0., 0., 0., 0., 0., 0., 0.,\n",
      "       0., 0., 0., 0., 0., 0., 0., 0., 0.], dtype=float32), array([[ 0.17347147,  0.13961439, -0.00318192, ...,  0.04292093,\n",
      "         0.06888102,  0.02373287],\n",
      "       [ 0.04847579, -0.08026059,  0.12649916, ..., -0.00874847,\n",
      "        -0.15832505, -0.14226732],\n",
      "       [-0.04457735,  0.09532227, -0.06011516, ..., -0.16397819,\n",
      "        -0.19663607, -0.09220754],\n",
      "       ...,\n",
      "       [ 0.05823399,  0.1430188 , -0.19223754, ...,  0.00146019,\n",
      "        -0.13805969,  0.12067221],\n",
      "       [ 0.04031608,  0.04245929, -0.13560249, ..., -0.14564952,\n",
      "         0.14329003, -0.00066766],\n",
      "       [ 0.01033513, -0.08429223,  0.09748186, ...,  0.15666302,\n",
      "        -0.19060992, -0.17601323]], dtype=float32), array([0., 0., 0., 0., 0., 0., 0., 0., 0., 0.], dtype=float32)]\n"
     ]
    }
   ],
   "source": [
    "\n",
    "\n",
    "print(model.get_weights())\n"
   ]
  },
  {
   "cell_type": "markdown",
   "metadata": {},
   "source": [
    "# Complile the model with optimizer, loss, and metrics \n",
    "\n",
    "- Loss function: steers the model in the right direction. Loss is calculated by how accurate the model is at classifying\n",
    "- Optimizer: the model uses an optimization funcition to minizmize the loss function\n",
    " - Metrics: Records accuracy of how well the model correctly classifies the images"
   ]
  },
  {
   "cell_type": "code",
   "execution_count": 15,
   "metadata": {},
   "outputs": [],
   "source": [
    "\n",
    "\n",
    "model.compile(optimizer = 'adam' , \n",
    "    loss = 'sparse_categorical_crossentropy', \n",
    "    metrics = ['accuracy'])"
   ]
  },
  {
   "cell_type": "markdown",
   "metadata": {},
   "source": [
    "# Train the model\n",
    "\n",
    "- Step 1: feed the training data to the model. In this case it is the train_images and train_labels arrays\n",
    "- Step 2: Model learns over a series of epochs. Each epoch represents one \"step\" in the learning process\n",
    "- Step 3\" Ask the model to make predictions about the test set. \n"
   ]
  },
  {
   "cell_type": "code",
   "execution_count": 16,
   "metadata": {},
   "outputs": [
    {
     "name": "stdout",
     "output_type": "stream",
     "text": [
      "Train on 60000 samples\n",
      "Epoch 1/10\n",
      "60000/60000 [==============================] - 3s 45us/sample - loss: 0.2599 - acc: 0.92620s - loss: 0.2667 - acc: 0.9\n",
      "Epoch 2/10\n",
      "60000/60000 [==============================] - 3s 43us/sample - loss: 0.1120 - acc: 0.9673\n",
      "Epoch 3/10\n",
      "60000/60000 [==============================] - 3s 44us/sample - loss: 0.0773 - acc: 0.9762\n",
      "Epoch 4/10\n",
      "60000/60000 [==============================] - 3s 44us/sample - loss: 0.0582 - acc: 0.9822\n",
      "Epoch 5/10\n",
      "60000/60000 [==============================] - 3s 43us/sample - loss: 0.0447 - acc: 0.9861\n",
      "Epoch 6/10\n",
      "60000/60000 [==============================] - 3s 43us/sample - loss: 0.0354 - acc: 0.9892\n",
      "Epoch 7/10\n",
      "60000/60000 [==============================] - 3s 43us/sample - loss: 0.0284 - acc: 0.9910\n",
      "Epoch 8/10\n",
      "60000/60000 [==============================] - 3s 43us/sample - loss: 0.0237 - acc: 0.9930\n",
      "Epoch 9/10\n",
      "60000/60000 [==============================] - 3s 43us/sample - loss: 0.0187 - acc: 0.9941\n",
      "Epoch 10/10\n",
      "60000/60000 [==============================] - 3s 43us/sample - loss: 0.0161 - acc: 0.9949\n"
     ]
    },
    {
     "data": {
      "text/plain": [
       "<tensorflow.python.keras.callbacks.History at 0x24c3ef75a08>"
      ]
     },
     "execution_count": 16,
     "metadata": {},
     "output_type": "execute_result"
    }
   ],
   "source": [
    "\n",
    "\n",
    "model.fit(train_images, train_labels, epochs = 10)\n",
    "\n",
    "#This model is about 85% accurate on the training data. Increasing the number of epochs increases accuracy,\n",
    "#but increases computing time."
   ]
  },
  {
   "cell_type": "markdown",
   "metadata": {},
   "source": [
    "# Now test the model on the test set and evaluate accuracy \n",
    "\n",
    "You will notice that the test accuracy is less than the training accuracy. This difference represents overfitting\n"
   ]
  },
  {
   "cell_type": "code",
   "execution_count": 17,
   "metadata": {},
   "outputs": [
    {
     "name": "stdout",
     "output_type": "stream",
     "text": [
      "10000/10000 - 0s - loss: 0.0809 - acc: 0.9779\n",
      "\n",
      "Test accuracy: 0.9779\n"
     ]
    }
   ],
   "source": [
    "\n",
    "\n",
    "test_loss, test_acc = model.evaluate(test_images, test_labels, verbose = 2)\n",
    "print('\\nTest accuracy:', test_acc)\n",
    "\n"
   ]
  },
  {
   "cell_type": "markdown",
   "metadata": {},
   "source": [
    "# Lets look at how the model thinks by making predictions \n",
    "- The ten numbers represent probabilties of the image beloning to a certain class\n",
    "- Each number represents the model's 'confidence that an image belongs to that class'"
   ]
  },
  {
   "cell_type": "code",
   "execution_count": 18,
   "metadata": {},
   "outputs": [
    {
     "name": "stdout",
     "output_type": "stream",
     "text": [
      "[5.4973553e-11 3.7581041e-12 5.3383542e-10 2.2253405e-06 2.5375283e-14\n",
      " 3.6402777e-12 2.1718150e-16 9.9999762e-01 1.8281885e-09 7.4876816e-08]\n",
      "Highest Confidence Label: 7\n",
      "Test Label: 7\n"
     ]
    }
   ],
   "source": [
    "\n",
    "\n",
    "\n",
    "predictions = model.predict(test_images)\n",
    "\n",
    "print(predictions[0])\n",
    "\n",
    "#Print the label with the highest confidence value \n",
    "print('Highest Confidence Label:', np.argmax(predictions[0]))\n",
    "\n",
    "#Compare this with the model's actual test label \n",
    "print('Test Label:', test_labels[0])"
   ]
  },
  {
   "cell_type": "markdown",
   "metadata": {},
   "source": [
    "# Let's graph the confidence levels as function of class label "
   ]
  },
  {
   "cell_type": "code",
   "execution_count": 19,
   "metadata": {},
   "outputs": [],
   "source": [
    "\n",
    "\n",
    "def plot_image(i , predictions_array, true_label, img) : \n",
    "    predictions_array, true_label, img = predictions_array, true_label[i], img[i]\n",
    "    plt.grid(False)\n",
    "    plt.xticks([])\n",
    "    plt.yticks([])\n",
    "    \n",
    "    plt.imshow(img, cmap=plt.cm.binary)\n",
    "    \n",
    "    predicted_label = np.argmax(predictions_array)\n",
    "    if predicted_label == true_label: \n",
    "        color = 'blue'\n",
    "    else : \n",
    "        color = 'red'\n",
    "    \n",
    "    plt.xlabel(\"{} {:2.0f}% ({})\".format(class_names[predicted_label],\n",
    "                                100*np.max(predictions_array),\n",
    "                                class_names[true_label]),\n",
    "                                color=color)\n",
    "    \n",
    "def plot_value_array(i, predictions_array, true_label) :\n",
    "    predictions_array, true_label = predictions_array, true_label[i]\n",
    "    plt.grid(False)\n",
    "    plt.xticks(range(10))\n",
    "    plt.yticks([])\n",
    "    thisplot = plt.bar(range(10), predictions_array , color = \"#777777\")\n",
    "    plt.ylim([0,1])\n",
    "    predicted_label = np.argmax(predictions_array)\n",
    "        \n",
    "    thisplot[predicted_label].set_color('red')\n",
    "    thisplot[true_label].set_color('blue')\n",
    "        "
   ]
  },
  {
   "cell_type": "markdown",
   "metadata": {},
   "source": [
    "# Look at the first  and 12th image, predictions and predictions array "
   ]
  },
  {
   "cell_type": "code",
   "execution_count": 20,
   "metadata": {},
   "outputs": [
    {
     "data": {
      "image/png": "[encoded data removed]",
      "text/plain": [
       "<Figure size 432x216 with 2 Axes>"
      ]
     },
     "metadata": {
      "needs_background": "light"
     },
     "output_type": "display_data"
    }
   ],
   "source": [
    "\n",
    "\n",
    "i = 0\n",
    "plt.figure(figsize = (6,3))\n",
    "plt.subplot(1,2,1)\n",
    "plot_image(i , predictions[i], test_labels, test_images)\n",
    "plt.subplot(1,2,2)\n",
    "plot_value_array(i, predictions[i] , test_labels)\n",
    "plt.show()\n"
   ]
  },
  {
   "cell_type": "code",
   "execution_count": 21,
   "metadata": {},
   "outputs": [
    {
     "data": {
      "image/png": "[encoded data removed]",
      "text/plain": [
       "<Figure size 432x216 with 2 Axes>"
      ]
     },
     "metadata": {
      "needs_background": "light"
     },
     "output_type": "display_data"
    }
   ],
   "source": [
    "#Now lets look at the 12 image \n",
    "\n",
    "i = 11 \n",
    "plt.figure(figsize = (6,3))\n",
    "plt.subplot(1,2,1)\n",
    "plot_image(i , predictions[i], test_labels, test_images)\n",
    "plt.subplot(1,2,2)\n",
    "plot_value_array(i, predictions[i] , test_labels)\n",
    "plt.show()\n"
   ]
  },
  {
   "cell_type": "markdown",
   "metadata": {},
   "source": [
    "# Now let's plot several images with their predictions \n",
    "\n",
    "Correct predictions are in blue. Incorrect predictions are in red.\n"
   ]
  },
  {
   "cell_type": "code",
   "execution_count": 22,
   "metadata": {},
   "outputs": [
    {
     "data": {
      "image/png": "[encoded data removed]",
      "text/plain": [
       "<Figure size 864x720 with 30 Axes>"
      ]
     },
     "metadata": {
      "needs_background": "light"
     },
     "output_type": "display_data"
    }
   ],
   "source": [
    "#Now let's plot several images with their predictions \n",
    "#Correct predictions are in blue. Incorrect predictions are in red.\n",
    "\n",
    "num_rows = 5\n",
    "num_cols = 3\n",
    "num_images = num_rows*num_cols\n",
    "plt.figure(figsize=(2*2*num_cols, 2*num_rows))\n",
    "for i in range(num_images) :\n",
    "    plt.subplot(num_rows, 2*num_cols, 2*i+1)\n",
    "    plot_image(i, predictions[i], test_labels, test_images)\n",
    "    plt.subplot(num_rows, 2*num_cols, 2*i+2)\n",
    "    plot_value_array(i, predictions[i], test_labels)\n",
    "plt.tight_layout()\n",
    "plt.show()\n"
   ]
  },
  {
   "cell_type": "code",
   "execution_count": null,
   "metadata": {},
   "outputs": [],
   "source": []
  },
  {
   "cell_type": "code",
   "execution_count": null,
   "metadata": {},
   "outputs": [],
   "source": []
  },
  {
   "cell_type": "code",
   "execution_count": null,
   "metadata": {},
   "outputs": [],
   "source": []
  }
 ],
 "metadata": {
  "kernelspec": {
   "display_name": "TensorFlow",
   "language": "python",
   "name": "tensorflow"
  },
  "language_info": {
   "codemirror_mode": {
    "name": "ipython",
    "version": 3
   },
   "file_extension": ".py",
   "mimetype": "text/x-python",
   "name": "python",
   "nbconvert_exporter": "python",
   "pygments_lexer": "ipython3",
   "version": "3.7.5"
  }
 },
 "nbformat": 4,
 "nbformat_minor": 4
}
