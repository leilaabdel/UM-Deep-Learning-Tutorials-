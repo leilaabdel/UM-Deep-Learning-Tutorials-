{
 "cells": [
  {
   "cell_type": "markdown",
   "metadata": {},
   "source": [
    "# Linear Regression\n",
    "\n",
    "<img src=\"https://upload.wikimedia.org/wikipedia/commons/thumb/3/3a/Linear_regression.svg/1200px-Linear_regression.svg.png\" style=\"height:250px\">\n",
    "\n",
    "Today we will be going over simple linear regression\n",
    "\n",
    "\n",
    "- A linear regression is a line of best fit \n",
    "- A line of best fit has a correlation coefficient R^2."
   ]
  },
  {
   "cell_type": "markdown",
   "metadata": {},
   "source": [
    "# 1) Packages \n",
    "\n",
    "Let's first import all of the packages we need for this assignment. \n",
    "\n",
    "\n",
    "- [numpy](https://numpy.org/) helps us make our training and test set arrays\n",
    "\n",
    "- [sklearn](https://scikit-learn.org/stable/index.html) helps us use the logistic regression function\n",
    "\n",
    "- [tensorflow](https://www.tensorflow.org/) is what we will use to build our neural networks \n",
    "\n",
    "- [keras](https://keras.io/) helps us to make our neural networks \n",
    "\n"
   ]
  },
  {
   "cell_type": "code",
   "execution_count": 9,
   "metadata": {},
   "outputs": [],
   "source": [
    "#Import TensorFlow and Keras\n",
    "import tensorflow as tf\n",
    "from tensorflow import keras\n",
    "\n",
    "#Helper libraries\n",
    "import numpy as np\n",
    "import matplotlib.pyplot as plt\n",
    "from PIL import Image \n",
    "import cv2\n",
    "from pytube import YouTube\n",
    "import math\n",
    "import sklearn"
   ]
  },
  {
   "cell_type": "markdown",
   "metadata": {},
   "source": [
    "# 2) Import Data\n",
    "\n",
    "- Today we will be working with data from the Boston Housing Market \n",
    "- we will be working with inputs like crime rate, location, etc, to find the target\n",
    "- There are 13 features per house\n",
    "- The target is the median home price in ($ k) "
   ]
  },
  {
   "cell_type": "code",
   "execution_count": 10,
   "metadata": {},
   "outputs": [],
   "source": [
    "from keras.datasets import boston_housing\n",
    "(train_data, train_price) , (test_data, test_price) = boston_housing.load_data()"
   ]
  },
  {
   "cell_type": "markdown",
   "metadata": {},
   "source": [
    "# 3) Take a look at the data \n",
    "\n",
    "We have 404 houses in our training set \n",
    "We have 102 houses in our test set "
   ]
  },
  {
   "cell_type": "code",
   "execution_count": 11,
   "metadata": {},
   "outputs": [
    {
     "name": "stdout",
     "output_type": "stream",
     "text": [
      "Training Data : (404, 13)\n",
      "Test Data: (102, 13)\n"
     ]
    }
   ],
   "source": [
    "print(f'Training Data : {train_data.shape}')\n",
    "print(f'Test Data: {test_data.shape}')"
   ]
  },
  {
   "cell_type": "markdown",
   "metadata": {},
   "source": [
    "# 4) Normalize the data by computing the z score \n",
    "\n",
    "Only normalize the mean and standard deviation of the training data \n"
   ]
  },
  {
   "cell_type": "code",
   "execution_count": 12,
   "metadata": {},
   "outputs": [],
   "source": [
    "mean = train_data.mean(axis = 0)\n",
    "train_data -= mean\n",
    "sigma = train_data.std(axis = 0)\n",
    "train_data /= sigma\n",
    "\n",
    "test_data -= mean \n",
    "test_data /= sigma"
   ]
  },
  {
   "cell_type": "markdown",
   "metadata": {},
   "source": [
    "# 5) Build the multiple linear regression model \n",
    "\n",
    "This is a multiple regression, so there will be multiple inputs\n",
    "\n",
    "<img src=\"https://www.mathworks.com/help/examples/stats/win64/EstimateMultipleLinearRegressionCoefficientsExample_01.png\" style = height:200px>"
   ]
  },
  {
   "cell_type": "code",
   "execution_count": 13,
   "metadata": {},
   "outputs": [],
   "source": [
    "from keras import models\n",
    "from keras import layers\n",
    "\n",
    "def buildLinearRegression():\n",
    "    \n",
    "    model = models.Sequential([\n",
    "    \n",
    "    layers.Dense(1, activation='linear', input_shape=(train_data.shape[1],))\n",
    "        \n",
    "    ])\n",
    "    \n",
    "    model.compile(optimizer = 'rmsprop' , loss = 'mse', metrics = ['mae'])\n",
    "        \n",
    "    \n",
    "    \n",
    "    return model"
   ]
  },
  {
   "cell_type": "markdown",
   "metadata": {},
   "source": [
    "# 6) Train the model "
   ]
  },
  {
   "cell_type": "code",
   "execution_count": 17,
   "metadata": {},
   "outputs": [
    {
     "name": "stdout",
     "output_type": "stream",
     "text": [
      "Model Mean Sqaured Error: 23.00806397082759\n",
      "Model Mean Average Error Value: 3.4481446743011475\n"
     ]
    }
   ],
   "source": [
    "linearModel = buildLinearRegression()\n",
    "\n",
    "n_epochs = 10000\n",
    "\n",
    "linearModel.fit(train_data, train_price, epochs = n_epochs, batch_size = 32, verbose = 0)\n",
    "\n",
    "test_mse, test_mae = linearModel.evaluate(test_data, test_price, verbose = 0)\n",
    "\n",
    "print(f'Model Mean Sqaured Error: {test_mse}')\n",
    "print(f'Model Mean Average Error Value: {test_mae}')"
   ]
  },
  {
   "cell_type": "markdown",
   "metadata": {},
   "source": [
    "# 7) Test the model "
   ]
  },
  {
   "cell_type": "code",
   "execution_count": 18,
   "metadata": {},
   "outputs": [],
   "source": [
    "predictions = linearModel.predict(test_data)"
   ]
  },
  {
   "cell_type": "markdown",
   "metadata": {},
   "source": [
    "# 8) Get weights and bias "
   ]
  },
  {
   "cell_type": "code",
   "execution_count": 19,
   "metadata": {},
   "outputs": [],
   "source": [
    "Weights = linearModel.layers[0].get_weights()[0]\n",
    "Bias = linearModel.layers[0].get_weights()[1]"
   ]
  },
  {
   "cell_type": "markdown",
   "metadata": {},
   "source": [
    "# 9) Plotting two features "
   ]
  },
  {
   "cell_type": "code",
   "execution_count": 20,
   "metadata": {},
   "outputs": [
    {
     "data": {
      "image/png": "[encoded data removed]",
      "text/plain": [
       "<Figure size 432x288 with 1 Axes>"
      ]
     },
     "metadata": {
      "needs_background": "light"
     },
     "output_type": "display_data"
    }
   ],
   "source": [
    "import matplotlib.pyplot as plt\n",
    "\n",
    "idx = 5\n",
    "\n",
    "x = test_data[:, np.newaxis, idx]\n",
    "\n",
    "y = test_price\n",
    "\n",
    "\n",
    "def bestFitLine(m, b):\n",
    "   \n",
    "    axes = plt.gca()\n",
    "    x_vals = np.array(axes.get_xlim())\n",
    "    y_vals =  m * x_vals + b\n",
    "    plt.plot(x_vals, y_vals, '--', color = 'red')\n",
    "\n",
    "\n",
    "plt.figure()\n",
    "plt.scatter(x, y, marker = '.', color = 'blue')\n",
    "\n",
    "bestFitLine(Weights[idx], Bias)\n"
   ]
  },
  {
   "cell_type": "markdown",
   "metadata": {},
   "source": [
    "# Now it's your turn!\n",
    "\n",
    "We will be comparing the differences in linear and logistic regression on the same data set. "
   ]
  },
  {
   "cell_type": "code",
   "execution_count": 22,
   "metadata": {},
   "outputs": [],
   "source": [
    "# Define the logistic model here\n",
    "\n",
    "\n",
    "# Keep in mind the scoring metrics we will be using. "
   ]
  },
  {
   "cell_type": "markdown",
   "metadata": {},
   "source": [
    "# Train the model"
   ]
  },
  {
   "cell_type": "code",
   "execution_count": 23,
   "metadata": {},
   "outputs": [],
   "source": [
    "# Train the model here"
   ]
  },
  {
   "cell_type": "markdown",
   "metadata": {},
   "source": [
    "# Test the model on the data"
   ]
  },
  {
   "cell_type": "code",
   "execution_count": 24,
   "metadata": {},
   "outputs": [],
   "source": [
    "# Test model here"
   ]
  },
  {
   "cell_type": "markdown",
   "metadata": {},
   "source": [
    "# Get weights and biases and compare them with thsose of the linear regression"
   ]
  },
  {
   "cell_type": "code",
   "execution_count": 26,
   "metadata": {},
   "outputs": [],
   "source": [
    "# Get weights and biases\n",
    "\n",
    "\n",
    "#Compre linear and logistic regression by printing the weight and bias arrays"
   ]
  },
  {
   "cell_type": "markdown",
   "metadata": {},
   "source": [
    "# Plot the line of best fit of a logistic regression on two features\n"
   ]
  },
  {
   "cell_type": "code",
   "execution_count": null,
   "metadata": {},
   "outputs": [],
   "source": [
    "# Plot line here"
   ]
  },
  {
   "cell_type": "markdown",
   "metadata": {},
   "source": [
    "# Resources"
   ]
  },
  {
   "cell_type": "markdown",
   "metadata": {},
   "source": [
    "https://www.kaggle.com/shanekonaung/boston-housing-price-dataset-with-keras"
   ]
  },
  {
   "cell_type": "code",
   "execution_count": null,
   "metadata": {},
   "outputs": [],
   "source": []
  }
 ],
 "metadata": {
  "kernelspec": {
   "display_name": "Python 3",
   "language": "python",
   "name": "python3"
  },
  "language_info": {
   "codemirror_mode": {
    "name": "ipython",
    "version": 3
   },
   "file_extension": ".py",
   "mimetype": "text/x-python",
   "name": "python",
   "nbconvert_exporter": "python",
   "pygments_lexer": "ipython3",
   "version": "3.7.5"
  }
 },
 "nbformat": 4,
 "nbformat_minor": 2
}
