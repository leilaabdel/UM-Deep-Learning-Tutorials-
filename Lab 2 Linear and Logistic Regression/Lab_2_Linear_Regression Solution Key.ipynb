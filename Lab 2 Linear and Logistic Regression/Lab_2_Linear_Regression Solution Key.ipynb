{
 "cells": [
  {
   "cell_type": "markdown",
   "metadata": {},
   "source": [
    "# Linear Regression\n",
    "\n",
    "<img src=\"https://upload.wikimedia.org/wikipedia/commons/thumb/3/3a/Linear_regression.svg/1200px-Linear_regression.svg.png\" style=\"height:250px\">\n",
    "\n",
    "Today we will be going over simple linear regression\n",
    "\n",
    "\n",
    "- A linear regression is a line of best fit \n",
    "- A line of best fit has a correlation coefficient R^2."
   ]
  },
  {
   "cell_type": "markdown",
   "metadata": {},
   "source": [
    "# 1) Packages \n",
    "\n",
    "Let's first import all of the packages we need for this assignment. \n",
    "\n",
    "\n",
    "- [numpy](https://numpy.org/) helps us make our training and test set arrays\n",
    "\n",
    "- [sklearn](https://scikit-learn.org/stable/index.html) helps us use the logistic regression function\n",
    "\n",
    "- [tensorflow](https://www.tensorflow.org/) is what we will use to build our neural networks \n",
    "\n",
    "- [keras](https://keras.io/) helps us to make our neural networks \n",
    "\n"
   ]
  },
  {
   "cell_type": "code",
   "execution_count": 3,
   "metadata": {},
   "outputs": [],
   "source": [
    "#Import TensorFlow and Keras\n",
    "import tensorflow as tf\n",
    "from tensorflow import keras\n",
    "\n",
    "#Helper libraries\n",
    "import numpy as np\n",
    "import matplotlib.pyplot as plt\n",
    "from PIL import Image \n",
    "import cv2\n",
    "from pytube import YouTube\n",
    "import math\n",
    "import sklearn"
   ]
  },
  {
   "cell_type": "markdown",
   "metadata": {},
   "source": [
    "# 2) Import Data\n",
    "\n",
    "- Today we will be working with data from the Boston Housing Market \n",
    "- we will be working with inputs like crime rate, location, etc, to find the target\n",
    "- There are 13 features per house\n",
    "- The target is the median home price in ($ k) "
   ]
  },
  {
   "cell_type": "code",
   "execution_count": 4,
   "metadata": {},
   "outputs": [
    {
     "name": "stderr",
     "output_type": "stream",
     "text": [
      "Using TensorFlow backend.\n"
     ]
    }
   ],
   "source": [
    "from keras.datasets import boston_housing\n",
    "(train_data, train_price) , (test_data, test_price) = boston_housing.load_data()"
   ]
  },
  {
   "cell_type": "markdown",
   "metadata": {},
   "source": [
    "# 3) Take a look at the data \n",
    "\n",
    "We have 404 houses in our training set \n",
    "We have 102 houses in our test set "
   ]
  },
  {
   "cell_type": "code",
   "execution_count": 5,
   "metadata": {},
   "outputs": [
    {
     "name": "stdout",
     "output_type": "stream",
     "text": [
      "Training Data : (404, 13)\n",
      "Test Data: (102, 13)\n"
     ]
    }
   ],
   "source": [
    "print(f'Training Data : {train_data.shape}')\n",
    "print(f'Test Data: {test_data.shape}')"
   ]
  },
  {
   "cell_type": "markdown",
   "metadata": {},
   "source": [
    "# 4) Normalize the data by computing the z score \n",
    "\n",
    "Only normalize the mean and standard deviation of the training data \n"
   ]
  },
  {
   "cell_type": "code",
   "execution_count": 6,
   "metadata": {},
   "outputs": [],
   "source": [
    "mean = train_data.mean(axis = 0)\n",
    "train_data -= mean\n",
    "sigma = train_data.std(axis = 0)\n",
    "train_data /= sigma\n",
    "\n",
    "test_data -= mean \n",
    "test_data /= sigma"
   ]
  },
  {
   "cell_type": "markdown",
   "metadata": {},
   "source": [
    "# 5) Build the multiple linear regression model \n",
    "\n",
    "This is a multiple regression, so there will be multiple inputs\n",
    "\n",
    "<img src=\"https://www.mathworks.com/help/examples/stats/win64/EstimateMultipleLinearRegressionCoefficientsExample_01.png\" style = height:200px>"
   ]
  },
  {
   "cell_type": "code",
   "execution_count": 7,
   "metadata": {},
   "outputs": [],
   "source": [
    "from keras import models\n",
    "from keras import layers\n",
    "\n",
    "def buildLinearRegression():\n",
    "    \n",
    "    model = models.Sequential([\n",
    "    \n",
    "    layers.Dense(1, activation='linear', input_shape=(train_data.shape[1],))\n",
    "        \n",
    "    ])\n",
    "    \n",
    "    model.compile(optimizer = 'rmsprop' , loss = 'mse', metrics = ['mae'])\n",
    "        \n",
    "    \n",
    "    \n",
    "    return model"
   ]
  },
  {
   "cell_type": "markdown",
   "metadata": {},
   "source": [
    "# 6) Train the model "
   ]
  },
  {
   "cell_type": "code",
   "execution_count": 8,
   "metadata": {},
   "outputs": [
    {
     "name": "stdout",
     "output_type": "stream",
     "text": [
      "Model Mean Sqaured Error: 23.02216728060853\n",
      "Model Mean Average Error Value: 3.449336290359497\n"
     ]
    }
   ],
   "source": [
    "linearModel = buildLinearRegression()\n",
    "\n",
    "n_epochs = 10000\n",
    "\n",
    "linearModel.fit(train_data, train_price, epochs = n_epochs, batch_size = 32, verbose = 0)\n",
    "\n",
    "test_mse, test_mae = linearModel.evaluate(test_data, test_price, verbose = 0)\n",
    "\n",
    "print(f'Model Mean Sqaured Error: {test_mse}')\n",
    "print(f'Model Mean Average Error Value: {test_mae}')"
   ]
  },
  {
   "cell_type": "markdown",
   "metadata": {},
   "source": [
    "# 7) Test the model "
   ]
  },
  {
   "cell_type": "code",
   "execution_count": 9,
   "metadata": {},
   "outputs": [],
   "source": [
    "predictions = linearModel.predict(test_data)"
   ]
  },
  {
   "cell_type": "markdown",
   "metadata": {},
   "source": [
    "# 8) Get weights and bias "
   ]
  },
  {
   "cell_type": "code",
   "execution_count": 10,
   "metadata": {},
   "outputs": [],
   "source": [
    "Weights = linearModel.layers[0].get_weights()[0]\n",
    "Bias = linearModel.layers[0].get_weights()[1]"
   ]
  },
  {
   "cell_type": "markdown",
   "metadata": {},
   "source": [
    "# 9) Plotting two features "
   ]
  },
  {
   "cell_type": "code",
   "execution_count": 11,
   "metadata": {},
   "outputs": [
    {
     "data": {
      "image/png": "[encoded data removed]",
      "text/plain": [
       "<Figure size 432x288 with 1 Axes>"
      ]
     },
     "metadata": {
      "needs_background": "light"
     },
     "output_type": "display_data"
    }
   ],
   "source": [
    "import matplotlib.pyplot as plt\n",
    "\n",
    "idx = 5\n",
    "\n",
    "x = test_data[:, np.newaxis, idx]\n",
    "\n",
    "y = test_price\n",
    "\n",
    "\n",
    "def bestFitLine(m, b):\n",
    "   \n",
    "    axes = plt.gca()\n",
    "    x_vals = np.array(axes.get_xlim())\n",
    "    y_vals =  m * x_vals + b\n",
    "    plt.plot(x_vals, y_vals, '--', color = 'red')\n",
    "\n",
    "\n",
    "plt.figure()\n",
    "plt.scatter(x, y, marker = '.', color = 'blue')\n",
    "\n",
    "bestFitLine(Weights[idx], Bias)\n"
   ]
  },
  {
   "cell_type": "markdown",
   "metadata": {},
   "source": [
    "# Now it's your turn!\n",
    "\n",
    "We will be comparing the differences in linear and logistic regression on the same data set. "
   ]
  },
  {
   "cell_type": "code",
   "execution_count": 22,
   "metadata": {},
   "outputs": [],
   "source": [
    "#We have to modify the data to make it categorical\n",
    "\n",
    "maxtrain = np.amax(train_price)\n",
    "maxtest = np.amax(test_price)\n",
    "\n",
    "for i in range(len(train_price)):\n",
    "    if(train_price[i] < maxtrain/2):\n",
    "        train_price[i] = 0;\n",
    "    else:\n",
    "        train_price[i] = 1\n",
    "    \n",
    "    \n",
    "    \n",
    "for i in range(len(test_price)):\n",
    "    if(test_price[i] < maxtest/2):\n",
    "        test_price[i]= 0;\n",
    "        \n",
    "    else:\n",
    "        test_price[i] = 1\n",
    "    "
   ]
  },
  {
   "cell_type": "code",
   "execution_count": 23,
   "metadata": {},
   "outputs": [],
   "source": [
    "# Define the logistic model here\n",
    "\n",
    "from sklearn.linear_model import LogisticRegression\n",
    "\n",
    "\n",
    "# all parameters not specified are set to their defaults\n",
    "logisticRegr = LogisticRegression()\n",
    "\n",
    "\n",
    "# Keep in mind the scoring metrics we will be using. "
   ]
  },
  {
   "cell_type": "markdown",
   "metadata": {},
   "source": [
    "# Train the model"
   ]
  },
  {
   "cell_type": "code",
   "execution_count": 24,
   "metadata": {},
   "outputs": [
    {
     "name": "stderr",
     "output_type": "stream",
     "text": [
      "C:\\Users\\coder\\Anaconda3\\envs\\tf_gpu\\lib\\site-packages\\sklearn\\linear_model\\logistic.py:432: FutureWarning: Default solver will be changed to 'lbfgs' in 0.22. Specify a solver to silence this warning.\n",
      "  FutureWarning)\n"
     ]
    },
    {
     "data": {
      "text/plain": [
       "LogisticRegression(C=1.0, class_weight=None, dual=False, fit_intercept=True,\n",
       "                   intercept_scaling=1, l1_ratio=None, max_iter=100,\n",
       "                   multi_class='warn', n_jobs=None, penalty='l2',\n",
       "                   random_state=None, solver='warn', tol=0.0001, verbose=0,\n",
       "                   warm_start=False)"
      ]
     },
     "execution_count": 24,
     "metadata": {},
     "output_type": "execute_result"
    }
   ],
   "source": [
    "# Train the model here\n",
    "\n",
    "logisticRegr.fit(train_data, train_price)"
   ]
  },
  {
   "cell_type": "markdown",
   "metadata": {},
   "source": [
    "# Test the model on the data"
   ]
  },
  {
   "cell_type": "code",
   "execution_count": 25,
   "metadata": {},
   "outputs": [
    {
     "name": "stdout",
     "output_type": "stream",
     "text": [
      "0.8921568627450981\n"
     ]
    }
   ],
   "source": [
    "# Test model here\n",
    "logistic_predictions = logisticRegr.predict(test_data)\n",
    "logistic_score = logisticRegr.score(test_data, test_price)\n",
    "print(logistic_score)\n"
   ]
  },
  {
   "cell_type": "markdown",
   "metadata": {},
   "source": [
    "# Get weights and compare them with thsose of the linear regression"
   ]
  },
  {
   "cell_type": "code",
   "execution_count": 26,
   "metadata": {},
   "outputs": [
    {
     "name": "stdout",
     "output_type": "stream",
     "text": [
      "Linear weights:\n",
      "[[-1.1109653 ]\n",
      " [ 1.3438065 ]\n",
      " [ 0.03124908]\n",
      " [ 0.9601239 ]\n",
      " [-2.372176  ]\n",
      " [ 2.3962164 ]\n",
      " [ 0.21242434]\n",
      " [-3.453772  ]\n",
      " [ 2.8981006 ]\n",
      " [-1.9676172 ]\n",
      " [-1.9720079 ]\n",
      " [ 0.83178866]\n",
      " [-4.0405097 ]]\n",
      "Logistic weights:\n",
      "[[-0.15257395  0.30051083 -0.46654762  0.31413753 -0.20023763  1.33839839\n",
      "  -0.30362151 -1.10942773  1.53482915 -0.71457512 -0.41799184  0.16843306\n",
      "  -2.47917009]]\n"
     ]
    }
   ],
   "source": [
    "# Get weights \n",
    "logisticRegr.coef_\n",
    "\n",
    "#Compre linear and logistic regression by printing the weight arrays\n",
    "\n",
    "print(\"Linear weights:\")\n",
    "print(Weights)\n",
    "\n",
    "print(\"Logistic weights:\")\n",
    "print(logisticRegr.coef_)"
   ]
  },
  {
   "cell_type": "markdown",
   "metadata": {},
   "source": [
    "# Plot the line of best fit of a logistic regression on two features\n"
   ]
  },
  {
   "cell_type": "code",
   "execution_count": 28,
   "metadata": {},
   "outputs": [
    {
     "data": {
      "image/png": "[encoded data removed]",
      "text/plain": [
       "<Figure size 432x288 with 1 Axes>"
      ]
     },
     "metadata": {
      "needs_background": "light"
     },
     "output_type": "display_data"
    }
   ],
   "source": [
    "# Plot line here\n",
    "\n",
    "def bestFitLine(m):\n",
    "   \n",
    "    axes = plt.gca()\n",
    "    x_vals = np.array(axes.get_xlim())\n",
    "    y_vals =  m * x_vals \n",
    "    plt.plot(x_vals, y_vals, '--', color = 'red')\n",
    "\n",
    "\n",
    "plt.figure()\n",
    "plt.scatter(x, y, marker = '.', color = 'blue')\n",
    "\n",
    "bestFitLine(Weights[idx])"
   ]
  },
  {
   "cell_type": "markdown",
   "metadata": {},
   "source": [
    "# Resources"
   ]
  },
  {
   "cell_type": "markdown",
   "metadata": {},
   "source": [
    "https://www.kaggle.com/shanekonaung/boston-housing-price-dataset-with-keras"
   ]
  },
  {
   "cell_type": "code",
   "execution_count": null,
   "metadata": {},
   "outputs": [],
   "source": []
  }
 ],
 "metadata": {
  "kernelspec": {
   "display_name": "Python 3",
   "language": "python",
   "name": "python3"
  },
  "language_info": {
   "codemirror_mode": {
    "name": "ipython",
    "version": 3
   },
   "file_extension": ".py",
   "mimetype": "text/x-python",
   "name": "python",
   "nbconvert_exporter": "python",
   "pygments_lexer": "ipython3",
   "version": "3.7.5"
  }
 },
 "nbformat": 4,
 "nbformat_minor": 2
}
