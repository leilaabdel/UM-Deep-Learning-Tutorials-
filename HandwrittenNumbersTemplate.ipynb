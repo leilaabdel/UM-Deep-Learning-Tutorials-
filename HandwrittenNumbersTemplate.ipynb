{
 "cells": [
  {
   "cell_type": "code",
   "execution_count": 1,
   "metadata": {},
   "outputs": [],
   "source": [
    "#Author: \n",
    "#Import the Correct Classes to be used in the program "
   ]
  },
  {
   "cell_type": "code",
   "execution_count": 2,
   "metadata": {},
   "outputs": [],
   "source": [
    "#Import the mnist handwritten digits dataset \n",
    "\n",
    "\n",
    "#Load the data into 4 arrays: x_train, y_train, x_test, y_test \n",
    "\n",
    "\n",
    "#Create an array with the labels names. In this case, they are the digits 0,1,2, etc. \n"
   ]
  },
  {
   "cell_type": "code",
   "execution_count": 3,
   "metadata": {},
   "outputs": [],
   "source": [
    "#:Look at the parameters of the training and test set."
   ]
  },
  {
   "cell_type": "code",
   "execution_count": 4,
   "metadata": {},
   "outputs": [],
   "source": [
    "#Print the labels array. The labels should be between 0 and 9. "
   ]
  },
  {
   "cell_type": "code",
   "execution_count": 5,
   "metadata": {},
   "outputs": [],
   "source": [
    "#Look at the parameters of the test set "
   ]
  },
  {
   "cell_type": "code",
   "execution_count": 6,
   "metadata": {},
   "outputs": [],
   "source": [
    "#Preprocess the data so that we can normalize the pixel values between a range of 0 and 1. \n",
    "#Normalization helps with training accuracy "
   ]
  },
  {
   "cell_type": "code",
   "execution_count": 7,
   "metadata": {},
   "outputs": [],
   "source": [
    "#We now want to scale the values. Do this by dividing by the max value of the pixels. "
   ]
  },
  {
   "cell_type": "code",
   "execution_count": 8,
   "metadata": {},
   "outputs": [],
   "source": [
    "#Verify that the data is in the correct format and that it is standardized "
   ]
  },
  {
   "cell_type": "code",
   "execution_count": 9,
   "metadata": {},
   "outputs": [],
   "source": [
    "#Build the model. Every neural network is composed of layers. Each layer repreents extracting  representations\n",
    "#from the data fed into them. \n",
    "#This neural network has 3 layers. \n",
    "\n",
    "#The first layer (Flatten), transforms the image data from a 2d array to a 1d array\n",
    "\n",
    "#The second layer is a Dense function (a densly connected neural layer, which as 128 nodes, or neurons) \n",
    "\n",
    "#The last layer has 10 nodes, and uses the softmax activation function. Softmax activation functions \n",
    "#return probability scores  tht sum to 1. MAKE SURE THE NUMBER OF NODES IN THE LAST LAYER IS EQUAL TO \n",
    "#THE NUMBER OF CLASSES. "
   ]
  },
  {
   "cell_type": "code",
   "execution_count": 10,
   "metadata": {},
   "outputs": [],
   "source": [
    "#Look at the model architecture summary "
   ]
  },
  {
   "cell_type": "code",
   "execution_count": 11,
   "metadata": {},
   "outputs": [],
   "source": [
    "#Now let's look at the weight array, as well as the biases\n",
    "\n",
    "#A weight is used to ascribe importance to each node. The higher the node, the more 'imporant' it is in the network \n",
    "\n",
    "#A bias is like the intercept added to a linear equation. It adds and additional parameter. The default is that the bias is 0. \n",
    "\n",
    "\n",
    "#For the weights and biases, you will see the weights and biases for the first layer and the last layer of the network \n",
    "\n",
    "#Weights are normalized from -1 to 1. "
   ]
  },
  {
   "cell_type": "code",
   "execution_count": 12,
   "metadata": {},
   "outputs": [],
   "source": [
    "#Complile the model with optimizer, loss, and metrics \n",
    "\n",
    "#Loss function: steers the model in the right direction. Loss is calculated by how accurate the model is at classifying\n",
    "#Optimizer: the model uses an optimization funcition to minizmize the loss function\n",
    "#Metrics: Records accuracy of how well the model correctly classifies the images"
   ]
  },
  {
   "cell_type": "code",
   "execution_count": 13,
   "metadata": {},
   "outputs": [],
   "source": [
    "#Train the model\n",
    "\n",
    "#Step 1: feed the training data to the model. In this case it is the train_images and train_labels arrays\n",
    "#Step 2: Model learns over a series of epochs. Each epoch represents one \"step\" in the learning process\n",
    "#Step 3\" Ask the model to make predictions about the test set. \n"
   ]
  },
  {
   "cell_type": "code",
   "execution_count": 14,
   "metadata": {},
   "outputs": [],
   "source": [
    "#Now test the model on the test set and evaluate accuracy "
   ]
  },
  {
   "cell_type": "code",
   "execution_count": 15,
   "metadata": {},
   "outputs": [],
   "source": [
    "#Lets look at how the model thinks by making predictions \n",
    "#The ten numbers represent probabilties of the image beloning to a certain class\n",
    "#Each number represents the model's 'confidence that an image belongs to that class'\n"
   ]
  },
  {
   "cell_type": "code",
   "execution_count": 16,
   "metadata": {},
   "outputs": [],
   "source": [
    "#Let's graph the confidence levels as function of class label \n",
    "#Make 2 functions, one called plot_image the other called plot_value_array \n",
    "#Arguments of plot_image are (i , predictions_array, true_label, img)\n",
    "#Arguments of plot_value_array are (i, predictions_array, true_label)\n",
    "\n",
    "\n"
   ]
  },
  {
   "cell_type": "code",
   "execution_count": 17,
   "metadata": {},
   "outputs": [],
   "source": [
    "#Look at the first  image and 12th image and plot the image, along with the prediction model array"
   ]
  },
  {
   "cell_type": "code",
   "execution_count": null,
   "metadata": {},
   "outputs": [],
   "source": [
    "#Now let's plot several images with their predictions \n",
    "#Correct predictions are in blue. Incorrect predictions are in red."
   ]
  }
 ],
 "metadata": {
  "kernelspec": {
   "display_name": "TensorFlow",
   "language": "python",
   "name": "tensorflow"
  },
  "language_info": {
   "codemirror_mode": {
    "name": "ipython",
    "version": 3
   },
   "file_extension": ".py",
   "mimetype": "text/x-python",
   "name": "python",
   "nbconvert_exporter": "python",
   "pygments_lexer": "ipython3",
   "version": "3.7.5"
  }
 },
 "nbformat": 4,
 "nbformat_minor": 4
}
