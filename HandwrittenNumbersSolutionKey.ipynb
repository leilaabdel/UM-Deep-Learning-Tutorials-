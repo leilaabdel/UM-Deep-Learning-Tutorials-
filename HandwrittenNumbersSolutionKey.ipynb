{
 "cells": [
  {
   "cell_type": "code",
   "execution_count": 1,
   "metadata": {},
   "outputs": [
    {
     "name": "stdout",
     "output_type": "stream",
     "text": [
      "1.15.0\n"
     ]
    }
   ],
   "source": [
    "#Author: Leila Abdelrahman \n",
    "#Adapted from the Classify Images of Clothing Website by François Chollet, 2017, MIT\n",
    "\n",
    "from __future__ import absolute_import, division, print_function, unicode_literals\n",
    "# -*- coding: utf-8 -*-\n",
    "\n",
    "\n",
    "\n",
    "\n",
    "#Import TensorFlow and Keras\n",
    "import tensorflow as tf\n",
    "from tensorflow import keras\n",
    "\n",
    "#Helper libraries\n",
    "import numpy as np\n",
    "import matplotlib.pyplot as plt\n",
    "\n",
    "print(tf.__version__)\n",
    "\n",
    "\n",
    "\n",
    "\n"
   ]
  },
  {
   "cell_type": "code",
   "execution_count": 3,
   "metadata": {},
   "outputs": [
    {
     "name": "stdout",
     "output_type": "stream",
     "text": [
      "Downloading data from https://storage.googleapis.com/tensorflow/tf-keras-datasets/mnist.npz\n",
      "11493376/11490434 [==============================] - 0s 0us/step\n"
     ]
    }
   ],
   "source": [
    "#Import the Fashio MNIST dataset \n",
    "\n",
    "mnist = keras.datasets.mnist\n",
    "(train_images, train_labels), (test_images, test_labels) = mnist.load_data()\n",
    "\n",
    "#Loading the dataset should return 4 NumPy arrays\n",
    "\n",
    "#Next, add class name labels, as these are not included with the datast. Stoer them in an\n",
    "#array for later as we plot the images\n",
    "class_names =  ['0', '1', '2' , '3', '4', '5', '6', '7', '8', \n",
    "               '9']"
   ]
  },
  {
   "cell_type": "code",
   "execution_count": 4,
   "metadata": {},
   "outputs": [
    {
     "name": "stdout",
     "output_type": "stream",
     "text": [
      "(60000, 28, 28)\n"
     ]
    }
   ],
   "source": [
    "#Look at the parameters of the dataset\n",
    "\n",
    "#The data set contains 60,000 images in the training set, each represented as 28*28 poxels\n",
    "print(train_images.shape)\n",
    "\n",
    "\n",
    "\n"
   ]
  },
  {
   "cell_type": "code",
   "execution_count": 5,
   "metadata": {},
   "outputs": [
    {
     "data": {
      "text/plain": [
       "60000"
      ]
     },
     "execution_count": 5,
     "metadata": {},
     "output_type": "execute_result"
    }
   ],
   "source": [
    "#There are 60,000 traning labels \n",
    "len(train_labels)"
   ]
  },
  {
   "cell_type": "code",
   "execution_count": 6,
   "metadata": {},
   "outputs": [
    {
     "name": "stdout",
     "output_type": "stream",
     "text": [
      "[5 0 4 ... 5 6 8]\n"
     ]
    }
   ],
   "source": [
    "#Each label has an integer between 0 and 9;\n",
    "print(train_labels)\n"
   ]
  },
  {
   "cell_type": "code",
   "execution_count": 7,
   "metadata": {},
   "outputs": [
    {
     "name": "stdout",
     "output_type": "stream",
     "text": [
      "(10000, 28, 28)\n"
     ]
    }
   ],
   "source": [
    "#Thee are 10,000 images in the test set, each 28*28 pixels\n",
    "print(test_images.shape)"
   ]
  },
  {
   "cell_type": "code",
   "execution_count": 8,
   "metadata": {},
   "outputs": [
    {
     "data": {
      "image/png": "[encoded data removed]",
      "text/plain": [
       "<Figure size 432x288 with 2 Axes>"
      ]
     },
     "metadata": {
      "needs_background": "light"
     },
     "output_type": "display_data"
    }
   ],
   "source": [
    "#Preprocess the data so that we can normalize the pixel values between a range of 0 and 1. \n",
    "#Normalization helps with training accuracy \n",
    "plt.figure()\n",
    "plt.imshow(train_images[0])\n",
    "plt.colorbar()\n",
    "plt.grid(False)\n",
    "plt.show()"
   ]
  },
  {
   "cell_type": "code",
   "execution_count": 9,
   "metadata": {},
   "outputs": [],
   "source": [
    "#We now want to scale the values. Do this by dividing by 255, hwhich is the largest pixel value \n",
    "\n",
    "train_images = train_images/255.0\n",
    "test_images = test_images/255.0\n"
   ]
  },
  {
   "cell_type": "code",
   "execution_count": 10,
   "metadata": {},
   "outputs": [
    {
     "data": {
      "image/png": "[encoded data removed]",
      "text/plain": [
       "<Figure size 432x288 with 25 Axes>"
      ]
     },
     "metadata": {},
     "output_type": "display_data"
    }
   ],
   "source": [
    "#Verify that the data is in the correct format and that it is standardized \n",
    "\n",
    "for i in range (25):\n",
    "    plt.rcParams.update({'font.size': 10})\n",
    "    plt.subplot(5,5,i+1)\n",
    "    plt.xticks([])\n",
    "    plt.yticks([])\n",
    "    plt.grid(False)\n",
    "    plt.imshow(train_images[i], cmap = plt.cm.binary)\n",
    "    plt.xlabel(class_names[train_labels[i]])\n",
    "\n",
    "plt.show()"
   ]
  },
  {
   "cell_type": "code",
   "execution_count": 11,
   "metadata": {},
   "outputs": [
    {
     "name": "stdout",
     "output_type": "stream",
     "text": [
      "WARNING:tensorflow:From C:\\Users\\coder\\Anaconda3\\envs\\TensorFlow\\lib\\site-packages\\tensorflow_core\\python\\ops\\resource_variable_ops.py:1630: calling BaseResourceVariable.__init__ (from tensorflow.python.ops.resource_variable_ops) with constraint is deprecated and will be removed in a future version.\n",
      "Instructions for updating:\n",
      "If using Keras pass *_constraint arguments to layers.\n"
     ]
    }
   ],
   "source": [
    "#Build the model. Every neural network is composed of layers. Each layer repreents extracting  representations\n",
    "#from the data fed into them. \n",
    "#This neural network has 3 layers. \n",
    "\n",
    "#The first layer (Flatten), transforms the image data from a 2d array to a 1d array\n",
    "\n",
    "#The second layer is a Dense function (a densly connected neural layer, which as 128 nodes, or neurons) \n",
    "\n",
    "#The last layer has 10 nodes, and uses the softmax activation function. Softmax activation functions \n",
    "#return probability scores  tht sum to 1. MAKE SURE THE NUMBER OF NODES IN THE LAST LAYER IS EQUAL TO \n",
    "#THE NUMBER OF CLASSES. \n",
    "\n",
    "model = keras.Sequential([\n",
    "    keras.layers.Flatten(input_shape = (28,28)) ,\n",
    "    keras.layers.Dense(128, activation = 'relu'),\n",
    "    keras.layers.Dense(10, activation = 'softmax')\n",
    "])\n",
    "\n"
   ]
  },
  {
   "cell_type": "code",
   "execution_count": 12,
   "metadata": {},
   "outputs": [
    {
     "name": "stdout",
     "output_type": "stream",
     "text": [
      "Model: \"sequential\"\n",
      "_________________________________________________________________\n",
      "Layer (type)                 Output Shape              Param #   \n",
      "=================================================================\n",
      "flatten (Flatten)            (None, 784)               0         \n",
      "_________________________________________________________________\n",
      "dense (Dense)                (None, 128)               100480    \n",
      "_________________________________________________________________\n",
      "dense_1 (Dense)              (None, 10)                1290      \n",
      "=================================================================\n",
      "Total params: 101,770\n",
      "Trainable params: 101,770\n",
      "Non-trainable params: 0\n",
      "_________________________________________________________________\n",
      "None\n"
     ]
    }
   ],
   "source": [
    "#Let's look at the anatomy of the model. THis outlines what each layer is.  and how many parameters (arguments) there are. \n",
    "\n",
    "print(model.summary())\n",
    "\n"
   ]
  },
  {
   "cell_type": "code",
   "execution_count": 13,
   "metadata": {},
   "outputs": [
    {
     "name": "stdout",
     "output_type": "stream",
     "text": [
      "[array([[ 0.0276675 , -0.03130668, -0.05601054, ..., -0.07703528,\n",
      "        -0.06366758, -0.07457191],\n",
      "       [-0.03069825,  0.07290333,  0.00785232, ...,  0.02361818,\n",
      "        -0.06568163, -0.03124528],\n",
      "       [ 0.02321047,  0.04649078, -0.00217229, ..., -0.04095465,\n",
      "        -0.03267614,  0.00767434],\n",
      "       ...,\n",
      "       [ 0.00267849, -0.04349578, -0.05752083, ..., -0.05993164,\n",
      "         0.03653251, -0.03109479],\n",
      "       [ 0.01598388, -0.00198989, -0.0259783 , ..., -0.0399345 ,\n",
      "         0.06082501,  0.03339063],\n",
      "       [ 0.0134039 ,  0.02520295, -0.00454688, ..., -0.0371932 ,\n",
      "         0.06561411,  0.02953073]], dtype=float32), array([0., 0., 0., 0., 0., 0., 0., 0., 0., 0., 0., 0., 0., 0., 0., 0., 0.,\n",
      "       0., 0., 0., 0., 0., 0., 0., 0., 0., 0., 0., 0., 0., 0., 0., 0., 0.,\n",
      "       0., 0., 0., 0., 0., 0., 0., 0., 0., 0., 0., 0., 0., 0., 0., 0., 0.,\n",
      "       0., 0., 0., 0., 0., 0., 0., 0., 0., 0., 0., 0., 0., 0., 0., 0., 0.,\n",
      "       0., 0., 0., 0., 0., 0., 0., 0., 0., 0., 0., 0., 0., 0., 0., 0., 0.,\n",
      "       0., 0., 0., 0., 0., 0., 0., 0., 0., 0., 0., 0., 0., 0., 0., 0., 0.,\n",
      "       0., 0., 0., 0., 0., 0., 0., 0., 0., 0., 0., 0., 0., 0., 0., 0., 0.,\n",
      "       0., 0., 0., 0., 0., 0., 0., 0., 0.], dtype=float32), array([[ 0.16147931,  0.20668925, -0.11355063, ...,  0.11834736,\n",
      "        -0.20387861, -0.04321653],\n",
      "       [-0.17729156, -0.05887525,  0.20198496, ..., -0.17042983,\n",
      "        -0.03178421, -0.01374499],\n",
      "       [-0.20054719,  0.10383718,  0.07730825, ...,  0.08209975,\n",
      "        -0.07051402,  0.01969066],\n",
      "       ...,\n",
      "       [-0.1590432 ,  0.16713859,  0.20393144, ..., -0.18205464,\n",
      "        -0.07569753, -0.02079186],\n",
      "       [ 0.12381105, -0.02359423, -0.17646521, ...,  0.20455699,\n",
      "         0.15942262, -0.14426267],\n",
      "       [-0.03115627, -0.09511968, -0.1775788 , ...,  0.1168455 ,\n",
      "         0.14850096, -0.1726055 ]], dtype=float32), array([0., 0., 0., 0., 0., 0., 0., 0., 0., 0.], dtype=float32)]\n"
     ]
    }
   ],
   "source": [
    "#Now let's look at the weight array, as well as the biases\n",
    "\n",
    "#A weight is used to ascribe importance to each node. The higher the node, the more 'imporant' it is in the network \n",
    "\n",
    "#A bias is like the intercept added to a linear equation. It adds and additional parameter. The default is that the bias is 0. \n",
    "\n",
    "\n",
    "#For the weights and biases, you will see the weights and biases for the first layer and the last layer of the network \n",
    "\n",
    "#Weights are normalized from -1 to 1. \n",
    "\n",
    "print(model.get_weights())\n"
   ]
  },
  {
   "cell_type": "code",
   "execution_count": 14,
   "metadata": {},
   "outputs": [],
   "source": [
    "#Complile the model with optimizer, loss, and metrics \n",
    "\n",
    "#Loss function: steers the model in the right direction. Loss is calculated by how accurate the model is at classifying\n",
    "#Optimizer: the model uses an optimization funcition to minizmize the loss function\n",
    "#Metrics: Records accuracy of how well the model correctly classifies the images\n",
    "\n",
    "model.compile(optimizer = 'adam' , \n",
    "    loss = 'sparse_categorical_crossentropy', \n",
    "    metrics = ['accuracy'])"
   ]
  },
  {
   "cell_type": "code",
   "execution_count": 15,
   "metadata": {},
   "outputs": [
    {
     "name": "stdout",
     "output_type": "stream",
     "text": [
      "Train on 60000 samples\n",
      "Epoch 1/10\n",
      "60000/60000 [==============================] - 3s 45us/sample - loss: 0.2628 - acc: 0.9247\n",
      "Epoch 2/10\n",
      "60000/60000 [==============================] - 3s 43us/sample - loss: 0.1176 - acc: 0.9657\n",
      "Epoch 3/10\n",
      "60000/60000 [==============================] - 3s 43us/sample - loss: 0.0817 - acc: 0.9756\n",
      "Epoch 4/10\n",
      "60000/60000 [==============================] - 3s 43us/sample - loss: 0.0596 - acc: 0.9823\n",
      "Epoch 5/10\n",
      "60000/60000 [==============================] - ETA: 0s - loss: 0.0470 - acc: 0.985 - 3s 43us/sample - loss: 0.0468 - acc: 0.9857\n",
      "Epoch 6/10\n",
      "60000/60000 [==============================] - 3s 43us/sample - loss: 0.0362 - acc: 0.9890\n",
      "Epoch 7/10\n",
      "60000/60000 [==============================] - 3s 43us/sample - loss: 0.0292 - acc: 0.9911\n",
      "Epoch 8/10\n",
      "60000/60000 [==============================] - 3s 43us/sample - loss: 0.0239 - acc: 0.9927\n",
      "Epoch 9/10\n",
      "60000/60000 [==============================] - 3s 43us/sample - loss: 0.0195 - acc: 0.9940\n",
      "Epoch 10/10\n",
      "60000/60000 [==============================] - 3s 43us/sample - loss: 0.0158 - acc: 0.9951\n"
     ]
    },
    {
     "data": {
      "text/plain": [
       "<tensorflow.python.keras.callbacks.History at 0x1833fc553c8>"
      ]
     },
     "execution_count": 15,
     "metadata": {},
     "output_type": "execute_result"
    }
   ],
   "source": [
    "#Train the model\n",
    "\n",
    "#Step 1: feed the training data to the model. In this case it is the train_images and train_labels arrays\n",
    "#Step 2: Model learns over a series of epochs. Each epoch represents one \"step\" in the learning process\n",
    "#Step 3\" Ask the model to make predictions about the test set. \n",
    "\n",
    "\n",
    "model.fit(train_images, train_labels, epochs = 10)\n",
    "\n",
    "#This model is about 85% accurate on the training data. Increasing the number of epochs increases accuracy,\n",
    "#but increases computing time."
   ]
  },
  {
   "cell_type": "code",
   "execution_count": 16,
   "metadata": {},
   "outputs": [
    {
     "name": "stdout",
     "output_type": "stream",
     "text": [
      "10000/10000 - 0s - loss: 0.0739 - acc: 0.9792\n",
      "\n",
      "Test accuracy: 0.9792\n"
     ]
    }
   ],
   "source": [
    "#Now test the model on the test set and evaluate accuracy \n",
    "\n",
    "test_loss, test_acc = model.evaluate(test_images, test_labels, verbose = 2)\n",
    "print('\\nTest accuracy:', test_acc)\n",
    "\n",
    "#You will notice that the test accuracy is less than the training accuracy. This difference represents overfitting"
   ]
  },
  {
   "cell_type": "code",
   "execution_count": 17,
   "metadata": {},
   "outputs": [
    {
     "name": "stdout",
     "output_type": "stream",
     "text": [
      "[8.9201553e-09 1.9659999e-10 2.1286805e-06 3.5944995e-05 1.2146997e-13\n",
      " 2.6999318e-08 3.9641254e-14 9.9996161e-01 5.8641717e-08 2.8991673e-07]\n",
      "Highest Confidence Label: 7\n",
      "Test Label: 7\n"
     ]
    }
   ],
   "source": [
    "#Lets look at how the model thinks by making predictions \n",
    "#The ten numbers represent probabilties of the image beloning to a certain class\n",
    "#Each number represents the model's 'confidence that an image belongs to that class'\n",
    "\n",
    "\n",
    "predictions = model.predict(test_images)\n",
    "\n",
    "print(predictions[0])\n",
    "\n",
    "#Print the label with the highest confidence value \n",
    "print('Highest Confidence Label:', np.argmax(predictions[0]))\n",
    "\n",
    "#Compare this with the model's actual test label \n",
    "print('Test Label:', test_labels[0])"
   ]
  },
  {
   "cell_type": "code",
   "execution_count": 18,
   "metadata": {},
   "outputs": [],
   "source": [
    "#Let's graph the confidence levels as function of class label \n",
    "\n",
    "def plot_image(i , predictions_array, true_label, img) : \n",
    "    predictions_array, true_label, img = predictions_array, true_label[i], img[i]\n",
    "    plt.grid(False)\n",
    "    plt.xticks([])\n",
    "    plt.yticks([])\n",
    "    \n",
    "    plt.imshow(img, cmap=plt.cm.binary)\n",
    "    \n",
    "    predicted_label = np.argmax(predictions_array)\n",
    "    if predicted_label == true_label: \n",
    "        color = 'blue'\n",
    "    else : \n",
    "        color = 'red'\n",
    "    \n",
    "    plt.xlabel(\"{} {:2.0f}% ({})\".format(class_names[predicted_label],\n",
    "                                100*np.max(predictions_array),\n",
    "                                class_names[true_label]),\n",
    "                                color=color)\n",
    "    \n",
    "def plot_value_array(i, predictions_array, true_label) :\n",
    "    predictions_array, true_label = predictions_array, true_label[i]\n",
    "    plt.grid(False)\n",
    "    plt.xticks(range(10))\n",
    "    plt.yticks([])\n",
    "    thisplot = plt.bar(range(10), predictions_array , color = \"#777777\")\n",
    "    plt.ylim([0,1])\n",
    "    predicted_label = np.argmax(predictions_array)\n",
    "        \n",
    "    thisplot[predicted_label].set_color('red')\n",
    "    thisplot[true_label].set_color('blue')\n",
    "        "
   ]
  },
  {
   "cell_type": "code",
   "execution_count": 19,
   "metadata": {},
   "outputs": [
    {
     "data": {
      "image/png": "[encoded data removed]",
      "text/plain": [
       "<Figure size 432x216 with 2 Axes>"
      ]
     },
     "metadata": {
      "needs_background": "light"
     },
     "output_type": "display_data"
    }
   ],
   "source": [
    "#Look at the first image, predictions and predictions array \n",
    "\n",
    "i = 0\n",
    "plt.figure(figsize = (6,3))\n",
    "plt.subplot(1,2,1)\n",
    "plot_image(i , predictions[i], test_labels, test_images)\n",
    "plt.subplot(1,2,2)\n",
    "plot_value_array(i, predictions[i] , test_labels)\n",
    "plt.show()\n"
   ]
  },
  {
   "cell_type": "code",
   "execution_count": 20,
   "metadata": {},
   "outputs": [
    {
     "data": {
      "image/png": "[encoded data removed]",
      "text/plain": [
       "<Figure size 432x216 with 2 Axes>"
      ]
     },
     "metadata": {
      "needs_background": "light"
     },
     "output_type": "display_data"
    }
   ],
   "source": [
    "#Now lets look at the 12 image \n",
    "\n",
    "i = 12 \n",
    "plt.figure(figsize = (6,3))\n",
    "plt.subplot(1,2,1)\n",
    "plot_image(i , predictions[i], test_labels, test_images)\n",
    "plt.subplot(1,2,2)\n",
    "plot_value_array(i, predictions[i] , test_labels)\n",
    "plt.show()\n"
   ]
  },
  {
   "cell_type": "code",
   "execution_count": 21,
   "metadata": {},
   "outputs": [
    {
     "data": {
      "image/png": "[encoded data removed]",
      "text/plain": [
       "<Figure size 864x720 with 30 Axes>"
      ]
     },
     "metadata": {
      "needs_background": "light"
     },
     "output_type": "display_data"
    }
   ],
   "source": [
    "#Now let's plot several images with their predictions \n",
    "#Correct predictions are in blue. Incorrect predictions are in red.\n",
    "\n",
    "num_rows = 5\n",
    "num_cols = 3\n",
    "num_images = num_rows*num_cols\n",
    "plt.figure(figsize=(2*2*num_cols, 2*num_rows))\n",
    "for i in range(num_images) :\n",
    "    plt.subplot(num_rows, 2*num_cols, 2*i+1)\n",
    "    plot_image(i, predictions[i], test_labels, test_images)\n",
    "    plt.subplot(num_rows, 2*num_cols, 2*i+2)\n",
    "    plot_value_array(i, predictions[i], test_labels)\n",
    "plt.tight_layout()\n",
    "plt.show()\n"
   ]
  },
  {
   "cell_type": "code",
   "execution_count": null,
   "metadata": {},
   "outputs": [],
   "source": []
  }
 ],
 "metadata": {
  "kernelspec": {
   "display_name": "TensorFlow",
   "language": "python",
   "name": "tensorflow"
  },
  "language_info": {
   "codemirror_mode": {
    "name": "ipython",
    "version": 3
   },
   "file_extension": ".py",
   "mimetype": "text/x-python",
   "name": "python",
   "nbconvert_exporter": "python",
   "pygments_lexer": "ipython3",
   "version": "3.7.5"
  }
 },
 "nbformat": 4,
 "nbformat_minor": 4
}
